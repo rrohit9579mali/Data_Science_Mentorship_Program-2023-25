{
 "cells": [
  {
   "cell_type": "markdown",
   "metadata": {
    "id": "ajVfqio_GinI"
   },
   "source": [
    "## Exception Handling\n"
   ]
  },
  {
   "cell_type": "markdown",
   "metadata": {
    "id": "0qnQkJtnGozz"
   },
   "source": [
    "###`Q-1`: You are given a function definition. There might be several issues on execution of this function. You are asked to do exception handling for diffrent errors that this function goes in to `without altering this function`. And print error text.\n",
    "\n"
   ]
  },
  {
   "cell_type": "markdown",
   "metadata": {
    "id": "2no_EB2fGyGq"
   },
   "source": [
    "Function parameters `l -> list, s -> could be anything`\n",
    "\n",
    "```\n",
    "def function(l: list, s, **args):\n",
    "    last_element = l[-1]\n",
    "    \n",
    "    l[int(s)]=10\n",
    "    any_element = l[int(s)+10]\n",
    "    l[s]=10\n",
    "    \n",
    "    res = sum(l)\n",
    "    \n",
    "    p = args['p']\n",
    "    # print(p)\n",
    "    return res/last_element * p + any_element\n",
    "\n",
    "```\n",
    "Check for different function calls:-\n",
    "\n",
    "```\n",
    "function([1,2,1], 12)\n",
    "function([1,2,1]*9, '1-2')\n",
    "function([1,'2',1]*9, 12)\n",
    "function([1,'2',1]*9, 12)\n",
    "function([1,2,0]*9, 12  )\n",
    "function([1,2,1]*9, 12, p=None)\n",
    "function([1,2,0]*9, 12, p=10)\n",
    "```"
   ]
  },
  {
   "cell_type": "code",
   "execution_count": 1,
   "metadata": {
    "id": "VoaL4_9eGjFU"
   },
   "outputs": [
    {
     "name": "stdout",
     "output_type": "stream",
     "text": [
      "ValueError: s should be an integer, not a string like '1-2'\n"
     ]
    }
   ],
   "source": [
    "def function(l: list, s, **args):\n",
    "    try:\n",
    "        last_element = l[-1]\n",
    "\n",
    "        # Check if 's' is convertible to int\n",
    "        if isinstance(s, str) and not s.isdigit():\n",
    "            raise ValueError(\"s should be an integer, not a string like '1-2'\")\n",
    "\n",
    "        s = int(s)  # Convert to integer\n",
    "        l[s] = 10  # Update list index\n",
    "        \n",
    "        any_element = l[s + 10]  # Access 10 indices ahead\n",
    "\n",
    "        res = sum(l)  # Sum of list elements\n",
    "\n",
    "        p = args.get('p', 1)  # Default value for p if not provided\n",
    "        return res / last_element * p + any_element\n",
    "\n",
    "    except ValueError as ve:\n",
    "        print(f\"ValueError: {ve}\")\n",
    "    except IndexError:\n",
    "        print(\"IndexError: Index out of range in list\")\n",
    "    except KeyError:\n",
    "        print(\"KeyError: Missing required key in kwargs\")\n",
    "    except TypeError as te:\n",
    "        print(f\"TypeError: {te}\")\n",
    "    except Exception as e:\n",
    "        print(f\"Unexpected Error: {e}\")\n",
    "\n",
    "# Function Call\n",
    "function([1, 2, 1] * 9, '1-2')\n"
   ]
  },
  {
   "cell_type": "markdown",
   "metadata": {
    "id": "HuLMy2fVG9sL"
   },
   "source": [
    "###`Q-2:` You are given a code snippet. There might be several issues on execution of this code. You are asked to do exception handling for diffrent errors, condition is what ever happens we need to execute last line printing correct result of `sum of elements`.\n",
    "\n",
    "List have elemnts as any no of  `key-pair dict with key as list index and value as any integer`, `integers` and `numeric-strings`. There is always only one element in the dict.\n",
    "\n",
    "\n",
    "```\n",
    "l = [{0:2},2,3,4,'5', {5:10}]\n",
    "# For calculating sum of above list\n",
    "s=0\n",
    "for i in range(len(l)):\n",
    "    #You can Edit code from here\n",
    "    s += l[i].get(i)\n",
    "    s += l[i]\n",
    "    s += int(l[i])\n",
    "\n",
    "\n",
    "print(s)\n",
    "```"
   ]
  },
  {
   "cell_type": "code",
   "execution_count": 16,
   "metadata": {
    "id": "pEP8JU0qHAf8"
   },
   "outputs": [
    {
     "name": "stdout",
     "output_type": "stream",
     "text": [
      "Sum: 26\n"
     ]
    }
   ],
   "source": [
    "l = [{0:2}, 2, 3, 4, '5', {5:10}]\n",
    "s = 0\n",
    "\n",
    "for i in range(len(l)):\n",
    "    try:\n",
    "        s += int(l[i])  # Convert and add if possible\n",
    "    except (TypeError, ValueError):  # Handle dictionaries and invalid conversions\n",
    "        try:\n",
    "            s += list(l[i].values())[0]  # Add the first value from the dictionary\n",
    "        except AttributeError:\n",
    "            print(\"Skipping invalid type:\", l[i])  # Handle non-dictionary, non-integer cases\n",
    "\n",
    "print(\"Sum:\", s)\n"
   ]
  },
  {
   "cell_type": "markdown",
   "metadata": {
    "id": "ohE2fDTXHIan"
   },
   "source": [
    "### `Q-3:`: File Handling with Exception handling\n",
    "\n",
    "Write a program that opens a text file and write data to it as \"Hello, Good Morning!!!\". Handle exceptions that can be generated during the I/O operations. Do not show the success message on the main exception handling block (write inside the else block)."
   ]
  },
  {
   "cell_type": "code",
   "execution_count": 26,
   "metadata": {
    "id": "iOeiWrcIHPlY"
   },
   "outputs": [
    {
     "name": "stdout",
     "output_type": "stream",
     "text": [
      "File is empty!\n"
     ]
    }
   ],
   "source": [
    "# Writing to the file\n",
    "with open('Task11.txt', 'w') as f:\n",
    "    f.write(\"Hello, Good Morning!!!\")\n",
    "\n",
    "# Reading from the file\n",
    "with open('Task11.txt', 'r') as f:\n",
    "    content = f.read()\n",
    "    if content:\n",
    "        print(content)  # Print file content\n",
    "    else:\n",
    "        print(\"File is empty!\")\n"
   ]
  },
  {
   "cell_type": "markdown",
   "metadata": {
    "id": "ru8g8-_bHTUf"
   },
   "source": [
    "### `Q-4`: Number game program.\n",
    "\n",
    "Write a number game program. Ask the user to enter a number. If the number is greater than number to be guessed, raise a **ValueTooLarge** exception. If the value is smaller the number to be guessed the, raise a **ValueTooSmall** exception and prompt the user to enter again. Quit the program only when the user enters the correct number. Also raise **GuessError** if user guess a number less than 1."
   ]
  },
  {
   "cell_type": "code",
   "execution_count": 29,
   "metadata": {
    "id": "QftlN5LJHZSX"
   },
   "outputs": [
    {
     "name": "stdin",
     "output_type": "stream",
     "text": [
      "enter the value n  5\n",
      "guess the number  3\n"
     ]
    },
    {
     "name": "stdout",
     "output_type": "stream",
     "text": [
      "ValueTooSmall\n"
     ]
    },
    {
     "name": "stdin",
     "output_type": "stream",
     "text": [
      "guess the number  2\n"
     ]
    },
    {
     "name": "stdout",
     "output_type": "stream",
     "text": [
      "ValueTooSmall\n"
     ]
    },
    {
     "name": "stdin",
     "output_type": "stream",
     "text": [
      "guess the number  8\n"
     ]
    },
    {
     "name": "stdout",
     "output_type": "stream",
     "text": [
      "ValueTooLarge\n"
     ]
    },
    {
     "name": "stdin",
     "output_type": "stream",
     "text": [
      "guess the number  9\n"
     ]
    },
    {
     "name": "stdout",
     "output_type": "stream",
     "text": [
      "ValueTooLarge\n"
     ]
    },
    {
     "name": "stdin",
     "output_type": "stream",
     "text": [
      "guess the number  123\n"
     ]
    },
    {
     "name": "stdout",
     "output_type": "stream",
     "text": [
      "ValueTooLarge\n"
     ]
    },
    {
     "name": "stdin",
     "output_type": "stream",
     "text": [
      "guess the number  -2\n"
     ]
    },
    {
     "name": "stdout",
     "output_type": "stream",
     "text": [
      "ValueTooSmall\n"
     ]
    },
    {
     "name": "stdin",
     "output_type": "stream",
     "text": [
      "guess the number  -3\n"
     ]
    },
    {
     "name": "stdout",
     "output_type": "stream",
     "text": [
      "ValueTooSmall\n"
     ]
    },
    {
     "name": "stdin",
     "output_type": "stream",
     "text": [
      "guess the number  5\n"
     ]
    },
    {
     "name": "stdout",
     "output_type": "stream",
     "text": [
      "congratulation u gess corret number\n"
     ]
    }
   ],
   "source": [
    "# Write code here\n",
    "num=int(input(\"enter the value n \"))\n",
    "gnum=0\n",
    "while num!=gnum:\n",
    "    gnum=int(input(\"guess the number \"))\n",
    "    if gnum>num:\n",
    "        print(\"ValueTooLarge\")\n",
    "    elif gnum<num:\n",
    "        print(\"ValueTooSmall\")\n",
    "\n",
    "    elif gnum<1:\n",
    "        print(\"GuessError\")\n",
    "\n",
    "print(\"congratulation u gess corret number\")"
   ]
  },
  {
   "cell_type": "code",
   "execution_count": 41,
   "metadata": {},
   "outputs": [
    {
     "name": "stdin",
     "output_type": "stream",
     "text": [
      "Enter the number to be guessed:  0\n"
     ]
    }
   ],
   "source": [
    "# Custom Exception Classes\n",
    "class ValueTooLarge(Exception):\n",
    "    pass\n",
    "\n",
    "class ValueTooSmall(Exception):\n",
    "    pass\n",
    "\n",
    "class GuessError(Exception):\n",
    "    pass\n",
    "\n",
    "# Take the correct number as input\n",
    "num = int(input(\"Enter the number to be guessed: \"))\n",
    "gnum = 0  # Initialize guessed number\n",
    "\n",
    "while num != gnum:\n",
    "    try:\n",
    "        gnum = int(input(\"Guess the number: \"))\n",
    "        \n",
    "        if gnum < 1:\n",
    "            raise GuessError(\"GuessError: You guessed a number less than 1. Try again.\")\n",
    "        elif gnum > num:\n",
    "            raise ValueTooLarge(\"ValueTooLarge: Please guess a smaller number.\")\n",
    "        elif gnum < num:\n",
    "            raise ValueTooSmall(\"ValueTooSmall: Please guess a larger number.\")\n",
    "        \n",
    "        # If the number is correct, exit the loop\n",
    "        print(\"🎉 Congratulations! You guessed the correct number.\")\n",
    "        break\n",
    "\n",
    "    except ValueTooLarge as e:\n",
    "        print(e)\n",
    "    except ValueTooSmall as e:\n",
    "        print(e)\n",
    "    except GuessError as e:\n",
    "        print(e)\n",
    "    except ValueError:\n",
    "        print(\"InvalidInputError: Please enter a valid integer.\")\n"
   ]
  },
  {
   "cell_type": "markdown",
   "metadata": {
    "id": "ZsGI_40fHcsd"
   },
   "source": [
    "### `Q-5:` Cast vote\n",
    "\n",
    "Write a program that validate name and age as entered by the user to determine whether the person can cast vote or not. To handle the age, create **InvalidAge** exception and for name, create **InvalidName** exception. The name will be invalid when the string will be empty or name has only one word.\n",
    "\n",
    "Example 1:\n",
    "\n",
    "Input:\n",
    "\n",
    "```bash\n",
    "Enter the name:               goransh singh\n",
    "Enter the age: 25\n",
    "```\n",
    "\n",
    "Output:\n",
    "\n",
    "```bash\n",
    "Goransh Singh  Congratulation !!! You can vote.\n",
    "```"
   ]
  },
  {
   "cell_type": "code",
   "execution_count": 26,
   "metadata": {
    "id": "OHL3UiS4Hi3U"
   },
   "outputs": [
    {
     "name": "stdin",
     "output_type": "stream",
     "text": [
      " 25\n"
     ]
    },
    {
     "name": "stdout",
     "output_type": "stream",
     "text": [
      "you can elgible for vote\n"
     ]
    }
   ],
   "source": [
    "# Write code here\n",
    "class vote(Exception):\n",
    "    pass\n",
    "class not_vote(Exception):\n",
    "    pass\n",
    "class ValueError(Exception):\n",
    "    pass\n",
    "def voting(self,num):\n",
    "    try:\n",
    "      if num>=18 and num<=100:\n",
    "        raise vote(\"you can elgible for vote\")\n",
    "      if num<0:\n",
    "          raise ValueError(\"invalid age\")\n",
    "      else:\n",
    "        raise not_vote(\"you can not elagible not for voting \")\n",
    "    except vote as e:\n",
    "       print(e)\n",
    "    except not_vote as e:\n",
    "       print(e)\n",
    "    except ValueError as e:\n",
    "        print(e)\n",
    "\n",
    "num=int(input())\n",
    "voting(11,num)"
   ]
  },
  {
   "cell_type": "markdown",
   "metadata": {
    "id": "SCvs0QjgHlOG"
   },
   "source": [
    "### `Q-6`: Write a python function which infinitely prints natural numbers in a single line. Raise the **StopIteration** exception after displaying first 20 numnbers to exit from the program."
   ]
  },
  {
   "cell_type": "code",
   "execution_count": 27,
   "metadata": {
    "id": "Lc5ilNgNHoSx"
   },
   "outputs": [
    {
     "name": "stdout",
     "output_type": "stream",
     "text": [
      "\n",
      "Error: Number exceeds 20. Allowed range: 1 to 20.\n"
     ]
    }
   ],
   "source": [
    "class NaturalNumUpto20(Exception):\n",
    "    pass\n",
    "\n",
    "class MemoryBound(Exception):\n",
    "    pass\n",
    "\n",
    "def naturalnum(num):\n",
    "    try:\n",
    "        if num > 20:\n",
    "            raise NaturalNumUpto20(\"Number exceeds 20. Allowed range: 1 to 20.\")\n",
    "\n",
    "        for i in range(1, num + 1):\n",
    "            print(i, end=\", \")\n",
    "    \n",
    "    except NaturalNumUpto20 as e:\n",
    "        print(\"\\nError:\", e)\n",
    "\n",
    "# Test\n",
    "naturalnum(25)\n"
   ]
  },
  {
   "cell_type": "code",
   "execution_count": null,
   "metadata": {},
   "outputs": [],
   "source": []
  }
 ],
 "metadata": {
  "colab": {
   "provenance": []
  },
  "kernelspec": {
   "display_name": "Python 3 (ipykernel)",
   "language": "python",
   "name": "python3"
  },
  "language_info": {
   "codemirror_mode": {
    "name": "ipython",
    "version": 3
   },
   "file_extension": ".py",
   "mimetype": "text/x-python",
   "name": "python",
   "nbconvert_exporter": "python",
   "pygments_lexer": "ipython3",
   "version": "3.13.0"
  }
 },
 "nbformat": 4,
 "nbformat_minor": 4
}
