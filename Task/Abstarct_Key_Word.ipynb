{
 "cells": [
  {
   "cell_type": "code",
   "execution_count": 14,
   "id": "608decfc-8e7d-4001-9002-3d56626b1c4f",
   "metadata": {},
   "outputs": [],
   "source": [
    "from abc import ABC,abstractmethod\n",
    "class Bank(ABC):\n",
    "    def  db(self):\n",
    "        print(\"connect DB successfully\")\n",
    "    @abstractmethod\n",
    "    def security(self):\n",
    "        print(\"banck pass will be secured\")\n",
    "        "
   ]
  },
  {
   "cell_type": "code",
   "execution_count": 20,
   "id": "8d072cbd-5a8e-4b9a-bab5-0909d7d9a8f0",
   "metadata": {},
   "outputs": [],
   "source": [
    "class mobile(Bank):\n",
    "    def mobileapp(self):\n",
    "        print(\"bank mobile pass\")\n",
    "    def security(self):\n",
    "        print(\"abstarct method called\")"
   ]
  },
  {
   "cell_type": "code",
   "execution_count": 21,
   "id": "3b2f9f32-02f6-48fa-aac3-ad9d4bbb13ea",
   "metadata": {},
   "outputs": [
    {
     "name": "stdout",
     "output_type": "stream",
     "text": [
      "bank mobile pass\n"
     ]
    }
   ],
   "source": [
    "m=mobile()\n",
    "m.mobileapp()"
   ]
  },
  {
   "cell_type": "code",
   "execution_count": 26,
   "id": "6b9ef4ad-165b-4de4-b014-f234807b3589",
   "metadata": {},
   "outputs": [],
   "source": [
    "from abc import ABC,abstractmethod\n",
    "class A(ABC):\n",
    "    def mobile(self):\n",
    "        print('mobile was called ')\n",
    "    @abstractmethod\n",
    "    def mobileapp(self):\n",
    "        print('mobile app was called')\n",
    "        "
   ]
  },
  {
   "cell_type": "code",
   "execution_count": 30,
   "id": "aa0be049-06df-4e76-806f-02ee4265a932",
   "metadata": {},
   "outputs": [],
   "source": [
    "class B (A):\n",
    "    def mobilerea(self):\n",
    "        print(\"mobile reacharge get it \")\n",
    "    def mobileapp(self):\n",
    "        print('abstract mobile app called')"
   ]
  },
  {
   "cell_type": "code",
   "execution_count": 32,
   "id": "f7bd4f09-b5f7-4cc1-bfd2-bac1a2a886bd",
   "metadata": {},
   "outputs": [
    {
     "name": "stdout",
     "output_type": "stream",
     "text": [
      "abstract mobile app called\n"
     ]
    }
   ],
   "source": [
    "m=B()\n",
    "m.mobileapp()"
   ]
  },
  {
   "cell_type": "code",
   "execution_count": null,
   "id": "7676ba6c-9424-4dc1-ab08-dd37ab469c3f",
   "metadata": {},
   "outputs": [],
   "source": []
  }
 ],
 "metadata": {
  "kernelspec": {
   "display_name": "Python 3 (ipykernel)",
   "language": "python",
   "name": "python3"
  },
  "language_info": {
   "codemirror_mode": {
    "name": "ipython",
    "version": 3
   },
   "file_extension": ".py",
   "mimetype": "text/x-python",
   "name": "python",
   "nbconvert_exporter": "python",
   "pygments_lexer": "ipython3",
   "version": "3.13.0"
  }
 },
 "nbformat": 4,
 "nbformat_minor": 5
}
