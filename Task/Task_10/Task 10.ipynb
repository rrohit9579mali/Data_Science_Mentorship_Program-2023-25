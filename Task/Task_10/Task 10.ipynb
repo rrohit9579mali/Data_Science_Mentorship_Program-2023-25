{
 "cells": [
  {
   "cell_type": "markdown",
   "metadata": {
    "id": "MbeMdx5d5qRj"
   },
   "source": [
    "### `Q-1:` Write a function `get_final_line(filename)`, which takes filename as input and return final line of the file.\n",
    "\n",
    "Note: You can choose any file of your choice."
   ]
  },
  {
   "cell_type": "code",
   "execution_count": 3,
   "metadata": {
    "id": "rjx9XRTq5uzD"
   },
   "outputs": [
    {
     "data": {
      "text/plain": [
       "'This realization changed his way of thinking and improved his knowledge.\\n'"
      ]
     },
     "execution_count": 3,
     "metadata": {},
     "output_type": "execute_result"
    }
   ],
   "source": [
    "# Write code here\n",
    "def get_final_line(filename):\n",
    "        final=\"\"\n",
    "        for current_line in open(\"demo.txt\",'r'):\n",
    "          final=current_line\n",
    "        return final\n",
    "\n",
    "str_text = \"\"\"Once upon a time in a faraway land, there lived an old, wise owl. He often observed the happenings around him and remained silent. One day, a young rabbit approached him and asked, \"Why do you remain so quiet?\" The owl replied, \"Wisdom comes from listening more and speaking less.\" The rabbit pondered these words and decided to follow the advice. As days passed, the rabbit noticed that he learned more by observing than by talking. This realization changed his way of thinking and enhanced his knowledge.\n",
    "\"\"\"\n",
    "get_final_line(str_text)\n"
   ]
  },
  {
   "cell_type": "markdown",
   "metadata": {
    "id": "B87Z6-yQ5wVO"
   },
   "source": [
    "###`Q-2:` Read through a text file, line by line. Use a dict to keep track of how many times each vowel (a, e, i, o, and u) appears in the file. Print the resulting tabulation -- dictionary."
   ]
  },
  {
   "cell_type": "code",
   "execution_count": 5,
   "metadata": {
    "id": "XeXnOL7X50Sa"
   },
   "outputs": [
    {
     "name": "stdout",
     "output_type": "stream",
     "text": [
      "Total vowel count: 156\n"
     ]
    }
   ],
   "source": [
    "# Writing the content to the file\n",
    "str_text = \"\"\"Once upon a time in a faraway land, there lived an old wise owl.\n",
    "He often observed the happenings around him and remained silent.\n",
    "One day, a young rabbit approached him and asked, \"Why do you remain so quiet?\"\n",
    "The owl replied, \"Wisdom comes from listening more and speaking less.\"\n",
    "The rabbit pondered over these words and decided to follow the advice.\n",
    "As days passed, the rabbit noticed that he learned more by observing than by talking.\n",
    "This realization changed his way of thinking and improved his knowledge.\n",
    "\"\"\"\n",
    "\n",
    "# Writing to a file\n",
    "with open('demo.txt', 'w') as f:\n",
    "    f.write(str_text)\n",
    "# Counting vowels in the file\n",
    "vowel_count = 0\n",
    "vowels = {'a', 'e', 'i', 'o', 'u'}\n",
    "\n",
    "with open('demo.txt', 'r') as r:\n",
    "    while True:\n",
    "        char = r.read(1)  # Read one character at a time\n",
    "        if not char:  # If end of file is reached\n",
    "            break\n",
    "        if char.lower() in vowels:  # Check if character is a vowel (case insensitive)\n",
    "            vowel_count += 1\n",
    "\n",
    "print(\"Total vowel count:\", vowel_count)\n"
   ]
  },
  {
   "cell_type": "markdown",
   "metadata": {
    "id": "lRqQ2Y295-Gg"
   },
   "source": [
    "###`Q-3:` Create a text file (using an editor, not necessarily Python) containing two tab separated columns, with each column containing a number. Then use Python to read through the file you’ve created. For each line, multiply each first number by the second and include it in the file in third column. In last add a line Total, by summing the value of third column\n",
    "\n"
   ]
  },
  {
   "cell_type": "markdown",
   "metadata": {
    "id": "GtFfahZc6Bvg"
   },
   "source": [
    "Input File example: That you need to create\n",
    "```\n",
    "1   2\n",
    "3   4\n",
    "5   6\n",
    "7   8\n",
    "9   10\n",
    "\n",
    "```\n",
    "\n",
    "Output File Example:\n",
    "```\n",
    "1   2   2\n",
    "3   4   12\n",
    "5   6   30\n",
    "7   8   56\n",
    "9   10  90\n",
    "Total   190\n",
    "```\n"
   ]
  },
  {
   "cell_type": "code",
   "execution_count": 6,
   "metadata": {
    "id": "GiKvqHnr5-j2"
   },
   "outputs": [
    {
     "name": "stdout",
     "output_type": "stream",
     "text": [
      "1 X 2 = 2\n",
      "3 X 4 = 12\n",
      "5 X 6 = 30\n",
      "7 X 8 = 56\n",
      "9 X 10 = 90\n",
      "total is : 190\n"
     ]
    }
   ],
   "source": [
    "import json \n",
    "d={i:i+1 for i in range(1,11,2)}\n",
    "with open('multi_2_col.json','w')as f:\n",
    "    json.dump(d,f)\n",
    "l=0\n",
    "with open('multi_2_col.json','r')as f:\n",
    "    m=json.load(f)\n",
    "    for key ,value in m.items():\n",
    "        m=int(key)\n",
    "        n=int(value)\n",
    "        k=m*n\n",
    "        print(f\"{key} X {value} = {m*n}\")\n",
    "        l+=k\n",
    "print(\"total is :\",l)        "
   ]
  },
  {
   "cell_type": "markdown",
   "metadata": {
    "id": "DunQepHC6J9r"
   },
   "source": [
    "###`Q-4:` Create line wise reverse of a file\n",
    "Write a function which takes two arguments: the names of the input file (to be read from) and the output file (which will be created)."
   ]
  },
  {
   "cell_type": "markdown",
   "metadata": {
    "id": "QxWEtFle6Nmu"
   },
   "source": [
    "For example, if a file looks like\n",
    " ```\n",
    "abc def\n",
    "ghi jkl\n",
    "```\n",
    "then the output file will be\n",
    "```\n",
    "fed cba\n",
    "lkj ihg\n",
    "```\n",
    "**Notice**: The newline remains at the end of the string, while the rest of the characters are all reversed."
   ]
  },
  {
   "cell_type": "code",
   "execution_count": 9,
   "metadata": {
    "id": "aIJTJNAq6LD7"
   },
   "outputs": [
    {
     "name": "stdin",
     "output_type": "stream",
     "text": [
      " abab \n",
      " amam\n"
     ]
    },
    {
     "name": "stdout",
     "output_type": "stream",
     "text": [
      "mama  baba\n"
     ]
    }
   ],
   "source": [
    "import json \n",
    "m=input()\n",
    "n=input()\n",
    "k = (m.ljust(len(m) + 1) + n)\n",
    "with open('Reverse_Of_File.json','w')as f:\n",
    "    json.dump(k,f)\n",
    "with open('Reverse_Of_File.json','r')as f:\n",
    "    str =json.load(f)\n",
    "    print(str[::-1])"
   ]
  },
  {
   "cell_type": "markdown",
   "metadata": {
    "id": "wqvx3sMY6bou"
   },
   "source": [
    "###`Q-5:` Create a Serialized dict of frequency of words in the file. And from given list of words, using serialized dict show word count.\n",
    "\n",
    "* List of word will be given\n",
    "\n"
   ]
  },
  {
   "cell_type": "markdown",
   "metadata": {
    "id": "uc5MSUWg6cZG"
   },
   "source": [
    "Given String\n",
    "\n",
    "```\n",
    "strings = \"\"\"Alice was beginning to get very tired of sitting by her sister\n",
    "            on the bank, and of having nothing to do:  once or twice she had\n",
    "            peeped into the book her sister was reading, but it had no\n",
    "            pictures or conversations in it, `and what is the use of a book,'\n",
    "            thought Alice `without pictures or conversation?'\n",
    "\n",
    "            So she was considering in her own mind (as well as she could,\n",
    "            for the hot day made her feel very sleepy and stupid), whether\n",
    "            the pleasure of making a daisy-chain would be worth the trouble\n",
    "            of getting up and picking the daisies, when suddenly a White\n",
    "            Rabbit with pink eyes ran close by her.\n",
    "\n",
    "            There was nothing so VERY remarkable in that; nor did Alice\n",
    "            think it so VERY much out of the way to hear the Rabbit say to\n",
    "            itself, `Oh dear!  Oh dear!  I shall be late!'  (when she thought\n",
    "            it over afterwards, it occurred to her that she ought to have\n",
    "            wondered at this, but at the time it all seemed quite natural);\n",
    "            but when the Rabbit actually TOOK A WATCH OUT OF ITS WAISTCOAT-\n",
    "            POCKET, and looked at it, and then hurried on, Alice started to\n",
    "            her feet, for it flashed across her mind that she had never\n",
    "            before seen a rabbit with either a waistcoat-pocket, or a watch to\n",
    "            take out of it, and burning with curiosity, she ran across the\n",
    "            field after it, and fortunately was just in time to see it pop\n",
    "            down a large rabbit-hole under the hedge.\"\"\"\n",
    "\n",
    "word_list = ['alice', 'wonder', 'natural']\n",
    "```"
   ]
  },
  {
   "cell_type": "code",
   "execution_count": 22,
   "metadata": {
    "id": "-SmtFFUq6a70"
   },
   "outputs": [
    {
     "name": "stdout",
     "output_type": "stream",
     "text": [
      "alice 1\n",
      "alice 1\n",
      "alice 1\n"
     ]
    }
   ],
   "source": [
    "# write code here\n",
    "strings = \"\"\"Alice was beginning to get very tired of sitting by her sister\n",
    "            on the bank, and of having nothing to do:  once or twice she had\n",
    "            peeped into the book her sister was reading, but it had no\n",
    "            pictures or conversations in it, `and what is the use of a book,'\n",
    "            thought Alice `without pictures or conversation?'\n",
    "\n",
    "            So she was considering in her own mind (as well as she could,\n",
    "            for the hot day made her feel very sleepy and stupid), whether\n",
    "            the pleasure of making a daisy-chain would be worth the trouble\n",
    "            of getting up and picking the daisies, when suddenly a White\n",
    "            Rabbit with pink eyes ran close by her.\n",
    "\n",
    "            There was nothing so VERY remarkable in that; nor did Alice\n",
    "            think it so VERY much out of the way to hear the Rabbit say to\n",
    "            itself, `Oh dear!  Oh dear!  I shall be late!'  (when she thought\n",
    "            it over afterwards, it occurred to her that she ought to have\n",
    "            wondered at this, but at the time it all seemed quite natural);\n",
    "            but when the Rabbit actually TOOK A WATCH OUT OF ITS WAISTCOAT-\n",
    "            POCKET, and looked at it, and then hurried on, Alice started to\n",
    "            her feet, for it flashed across her mind that she had never\n",
    "            before seen a rabbit with either a waistcoat-pocket, or a watch to\n",
    "            take out of it, and burning with curiosity, she ran across the\n",
    "            field after it, and fortunately was just in time to see it pop\n",
    "            down a large rabbit-hole under the hedge.\"\"\"\n",
    "word=dict()\n",
    "word_list = ['alice', 'wonder', 'natural']\n",
    "for i in strings.lower().split(' '):\n",
    "    if i in word_list:\n",
    "        word[i]=1\n",
    "        print(i,word[i])"
   ]
  },
  {
   "cell_type": "markdown",
   "metadata": {
    "id": "Und2HuFW6kAw"
   },
   "source": [
    "### **`Q-6:`** Given a string calculate length of the string using recursion.\n",
    "\n",
    "**Example 1:**\n",
    "\n",
    "Input:\n",
    "```bash\n",
    "\"abcd\"\n",
    "```\n",
    "\n",
    "Output:\n",
    "\n",
    "```bash\n",
    "4\n",
    "```\n",
    "\n",
    "**Example 2:**\n",
    "\n",
    "Input:\n",
    "```bash\n",
    "DataScience\n",
    "```\n",
    "\n",
    "Output:\n",
    "\n",
    "```bash\n",
    "11\n",
    "```\n"
   ]
  },
  {
   "cell_type": "code",
   "execution_count": 39,
   "metadata": {
    "id": "9HE7lB5W61gT"
   },
   "outputs": [
    {
     "name": "stdin",
     "output_type": "stream",
     "text": [
      " mama \n"
     ]
    },
    {
     "data": {
      "text/plain": [
       "5"
      ]
     },
     "execution_count": 39,
     "metadata": {},
     "output_type": "execute_result"
    }
   ],
   "source": [
    "def length(str):\n",
    "    if str=='':\n",
    "        return 0\n",
    "\n",
    "    else:\n",
    "        return 1+length(str[1:])\n",
    "str=input()\n",
    "length(str)"
   ]
  },
  {
   "cell_type": "markdown",
   "metadata": {
    "id": "iUDvc-jl6759"
   },
   "source": [
    "### **`Q-7:`** Write a function that accepts two numbers and returns their greatest common divisior. Without using any loop\n",
    "\n",
    "def gcd(int, int) => int\n",
    "\n",
    "```\n",
    "gcd(16,24) will give 8\n",
    "```"
   ]
  },
  {
   "cell_type": "code",
   "execution_count": 41,
   "metadata": {
    "id": "uMQnojHR7O2S"
   },
   "outputs": [
    {
     "name": "stdin",
     "output_type": "stream",
     "text": [
      " 5\n",
      " 6\n"
     ]
    },
    {
     "name": "stdout",
     "output_type": "stream",
     "text": [
      "{'5': 6}\n",
      "6 5\n"
     ]
    }
   ],
   "source": [
    "# Write code here\n",
    "import json \n",
    "n=int(input())\n",
    "m=int(input())\n",
    "d={\n",
    "    n:m\n",
    "} \n",
    "with open('calculate_GCD.json','w')as f:\n",
    "    json.dump(d,f)\n",
    "\n",
    "with open('calculate_GCD.json','r')as f:\n",
    "    m=json.load(f)\n",
    "    print(m)\n",
    "    for key,value in  m.items():\n",
    "        k=int(key)\n",
    "        v=int(value)\n",
    "        print(v,k)\n",
    "     \n"
   ]
  },
  {
   "cell_type": "code",
   "execution_count": 48,
   "metadata": {},
   "outputs": [
    {
     "name": "stdin",
     "output_type": "stream",
     "text": [
      " 30\n",
      " 30\n"
     ]
    },
    {
     "data": {
      "text/plain": [
       "30"
      ]
     },
     "execution_count": 48,
     "metadata": {},
     "output_type": "execute_result"
    }
   ],
   "source": [
    "def gcd(a,b):\n",
    "    if a==b:\n",
    "        return a\n",
    "\n",
    "    elif a>b:\n",
    "        return gcd(a-b,b)\n",
    "    else:\n",
    "        return gcd(a,b-a)\n",
    "\n",
    "n=int(input())\n",
    "m=int(input())\n",
    "\n",
    "gcd(n,m)"
   ]
  },
  {
   "cell_type": "markdown",
   "metadata": {
    "id": "wFD35fva7Q_B"
   },
   "source": [
    " ### `Q-8:` String Edit Distance\n",
    "\n",
    " Use your recursive function to write a program that reads two strings from the\n",
    "user and displays the edit distance between them.\n",
    "\n",
    "*The edit distance between two strings is a measure of their similarity—the smaller the edit distance, the more similar the strings are with regard to the minimum number of insert, delete and substitute operations needed to transform one string into the other.*\n",
    "\n",
    "Consider the strings `kitten` and `sitting`. The first string can be transformed\n",
    "into the second string with the following operations:\n",
    "* Substitute the `k` with an `s`,\n",
    "* substitute the `e` with an `i`,\n",
    "* and insert a `g` at the end of the string.\n",
    "\n",
    "This is the smallest number of operations that can be performed to transform kitten into sitting. As a result, the edit distance is `3`.\n",
    "\n",
    "\n",
    "Write a recursive function that computes the edit distance between two strings.\n",
    "\n",
    "Use the following algorithm:\n",
    "\n",
    "```\n",
    "Let s and t be the strings\n",
    "    If the length of s is 0 then\n",
    "        Return the length of t\n",
    "    Else if the length of t is 0 then\n",
    "        Return the length of s\n",
    "    Else\n",
    "        Set cost to 0\n",
    "        If the last character in s does not equal the last character in t then\n",
    "            Set cost to 1\n",
    "        Set d1 equal to the edit distance between all characters except the last one in s, and all characters in t, plus 1\n",
    "        Set d2 equal to the edit distance between all characters in s, and all characters except the last one in t, plus 1\n",
    "\n",
    "        Set d3 equal to the edit distance between all characters except the last one in s, and all characters except the last one in t, plus cost\n",
    "        Return the minimum of d1, d2 and d3\n",
    "```\n",
    "\n",
    "\n",
    "\n"
   ]
  },
  {
   "cell_type": "code",
   "execution_count": 54,
   "metadata": {
    "id": "zlNy_Q987QOX"
   },
   "outputs": [
    {
     "name": "stdout",
     "output_type": "stream",
     "text": [
      "3\n"
     ]
    }
   ],
   "source": [
    "def editdis(s, t):\n",
    "    if len(s) == 0:\n",
    "        return len(t)\n",
    "    elif len(t) == 0:\n",
    "        return len(s)\n",
    "\n",
    "    cost = 0 if s[-1] == t[-1] else 1\n",
    "\n",
    "    d1 = editdis(s[:-1], t) + 1  # Deletion\n",
    "    d2 = editdis(s, t[:-1]) + 1  # Insertion\n",
    "    d3 = editdis(s[:-1], t[:-1]) + cost  # Substitution\n",
    "\n",
    "    return min(d1, d2, d3)\n",
    "\n",
    "print(editdis(\"rohit\", \"mohit\"))\n",
    "\n"
   ]
  },
  {
   "cell_type": "markdown",
   "metadata": {
    "id": "Hc9e-qES7iAK"
   },
   "source": [
    "###`Q-9:` Run-Length Encoding\n",
    "\n",
    "Run-length encoding is a simple data compression technique that can be effective when repeated values occur at adjacent positions within a list. Compression is achieved by replacing groups of repeated values with one copy of the value, followed by the number of times that the value should be repeated. For example, the list\n",
    "```\n",
    "[\"A\", \"A\", \"A\", \"A\", \"A\", \"A\", \"A\", \"A\", \"A\", \"A\", \"A\", \"A\", \"B\", \"B\", \"B\", \"B\", \"A\", \"A\", \"A\", \"A\", \"A\", \"A\", \"B\"]\n",
    "```\n",
    "would be compressed as `[\"A\", 12, \"B\", 4, \"A\", 6, \"B\", 1]`.\n",
    "\n",
    "Write a recursive function that implements the run-length compression technique\n",
    "described above. Your function will take a list or a string as its only parameter. It should return the run-length compressed list as its only result. Include a main program that reads a string from the user, compresses it, and displays the run-length encoded result."
   ]
  },
  {
   "cell_type": "code",
   "execution_count": null,
   "metadata": {
    "id": "W2Wb_WzP7qM1"
   },
   "outputs": [],
   "source": [
    "# Write code here"
   ]
  },
  {
   "cell_type": "markdown",
   "metadata": {
    "id": "x6A-4vGC8SLs"
   },
   "source": [
    "###`Q-10:` Write a recursive function to convert a decimal to binary"
   ]
  },
  {
   "cell_type": "code",
   "execution_count": 78,
   "metadata": {
    "id": "izOr6D9V8aME"
   },
   "outputs": [
    {
     "name": "stdin",
     "output_type": "stream",
     "text": [
      " 5\n"
     ]
    },
    {
     "name": "stdout",
     "output_type": "stream",
     "text": [
      "101"
     ]
    }
   ],
   "source": [
    "# Write code here\n",
    "n=int(input())\n",
    "while n>0:\n",
    "    m=n%2\n",
    "    print(m,end=\"\")    \n",
    "    n//=2\n"
   ]
  },
  {
   "cell_type": "code",
   "execution_count": 86,
   "metadata": {},
   "outputs": [
    {
     "name": "stdout",
     "output_type": "stream",
     "text": [
      "101"
     ]
    },
    {
     "data": {
      "text/plain": [
       "1"
      ]
     },
     "execution_count": 86,
     "metadata": {},
     "output_type": "execute_result"
    }
   ],
   "source": [
    "def DB(num):\n",
    "    if num==0:\n",
    "        return 1\n",
    "    print(num%2,end=\"\")\n",
    "    return DB(num//2)  \n",
    "DB(5)"
   ]
  },
  {
   "cell_type": "code",
   "execution_count": null,
   "metadata": {},
   "outputs": [],
   "source": []
  }
 ],
 "metadata": {
  "colab": {
   "provenance": []
  },
  "kernelspec": {
   "display_name": "Python 3 (ipykernel)",
   "language": "python",
   "name": "python3"
  },
  "language_info": {
   "codemirror_mode": {
    "name": "ipython",
    "version": 3
   },
   "file_extension": ".py",
   "mimetype": "text/x-python",
   "name": "python",
   "nbconvert_exporter": "python",
   "pygments_lexer": "ipython3",
   "version": "3.13.0"
  }
 },
 "nbformat": 4,
 "nbformat_minor": 4
}
