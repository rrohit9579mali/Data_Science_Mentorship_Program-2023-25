{
 "cells": [
  {
   "cell_type": "markdown",
   "metadata": {
    "id": "FyUJ3PRAsPr4"
   },
   "source": [
    "##`Q-1:` Rectangle Class\n",
    "1. Write a Rectangle class in Python language, allowing you to build a rectangle with length and width attributes.\n",
    "\n",
    "2. Create a Perimeter() method to calculate the perimeter of the rectangle and a Area() method to calculate the area of ​​the rectangle.\n",
    "\n",
    "3. Create a method display() that display the length, width, perimeter and area of an object created using an instantiation on rectangle class."
   ]
  },
  {
   "cell_type": "markdown",
   "metadata": {
    "id": "GxUtOqJfssFK"
   },
   "source": [
    "Eg.\n",
    "After making above classes and methods, on executing below code:-\n",
    "```\n",
    "my_rectangle = Rectangle(3 , 4)\n",
    "my_rectangle.display()\n",
    "```\n",
    "\n",
    "`Output:`\n",
    "```\n",
    "The length of rectangle is:  3\n",
    "The width of rectangle is:  4\n",
    "The perimeter of rectangle is:  14\n",
    "The area of rectangle is:  12\n",
    "```\n"
   ]
  },
  {
   "cell_type": "code",
   "execution_count": 4,
   "metadata": {
    "id": "92_QT-Uj6NBg"
   },
   "outputs": [],
   "source": [
    "# write your code here\n",
    "class Rectangle:\n",
    "    def __init__(self,len,wid):\n",
    "        self.len=len\n",
    "        self.wid=wid\n",
    "    def  perimeter(self):\n",
    "        p=2*(self.len+self.wid)\n",
    "        return p\n",
    "        \n",
    "    def area(self):\n",
    "        a=self.len*self.wid\n",
    "        return a\n",
    "        \n",
    "    def display (self):\n",
    "        print(\"Length:\", self.len)  \n",
    "        print(\"Width:\", self.wid)\n",
    "        print(\"Perimeter:\", self.perimeter())  \n",
    "        print(\"Area:\", self.area()) "
   ]
  },
  {
   "cell_type": "code",
   "execution_count": 5,
   "metadata": {},
   "outputs": [
    {
     "name": "stdout",
     "output_type": "stream",
     "text": [
      "Length: 3\n",
      "Width: 4\n",
      "Perimeter: 14\n",
      "Area: 12\n"
     ]
    }
   ],
   "source": [
    "my_rectangle = Rectangle(3 , 4)\n",
    "my_rectangle.display()"
   ]
  },
  {
   "cell_type": "markdown",
   "metadata": {
    "id": "r_GxrS0Vrdom"
   },
   "source": [
    "##`Q-2: Bank Class`\n",
    "\n",
    "1. Create a Python class called `BankAccount` which represents a bank account, having as attributes: `accountNumber` (numeric type), `name` (name of the account owner as string type), `balance`.\n",
    "2. Create a constructor with parameters: `accountNumber, name, balance`.\n",
    "3. Create a `Deposit()` method which manages the deposit actions.\n",
    "4. Create a `Withdrawal()` method  which manages withdrawals actions.\n",
    "5. Create an `bankFees()` method to apply the bank fees with a percentage of 5% of the balance account.\n",
    "6. Create a `display()` method to display account details.\n",
    "Give the complete code for the  BankAccount class."
   ]
  },
  {
   "cell_type": "markdown",
   "metadata": {
    "id": "qvVkOUJgvTV_"
   },
   "source": [
    "Eg.\n",
    "After making above classes and methods, on executing below code:-\n",
    "```\n",
    "newAccount = BankAccount(2178514584, \"Mandy\" , 2800)\n",
    "\n",
    "newAccount.Withdrawal(700)\n",
    "\n",
    "newAccount.Deposit(1000)\n",
    "\n",
    "newAccount.display()\n",
    "```\n",
    "\n",
    "`Output:`\n",
    "```\n",
    "Account Number :  2178514584\n",
    "Account Name :  Mandy\n",
    "Account Balance :  3100 ₹\n",
    "```"
   ]
  },
  {
   "cell_type": "code",
   "execution_count": 10,
   "metadata": {
    "id": "fUQOmQyA6YDR"
   },
   "outputs": [],
   "source": [
    "# write your code here\n",
    "class Bank:\n",
    "    def __init__(self,name,amount,balance):\n",
    "        self.__name=name\n",
    "        self.__amount=amount \n",
    "        self.__balance=balance\n",
    "    def display(self):\n",
    "        print(\"Name of the customer is : \",self.__name)\n",
    "        print(\"Acount Number of the customer is : \" ,self.__amount)\n",
    "        print(\"Total balance is : \",self.__balance)\n",
    "\n",
    "    def deposite(self,amount):\n",
    "        self.__balance=self.__balance+self.__amount\n",
    "    def widrowl(self,amount):\n",
    "        self.__balance=self.__balance-self.__amount\n",
    "        reduction =self.__bankfees()\n",
    "        self.__balance-=reduction\n",
    "        \n",
    "    def __bankfees(self):\n",
    "        return 0.05*self.__balance\n",
    "        "
   ]
  },
  {
   "cell_type": "code",
   "execution_count": 12,
   "metadata": {},
   "outputs": [
    {
     "name": "stdout",
     "output_type": "stream",
     "text": [
      "Name of the customer is :  rohit\n",
      "Acount Number of the customer is :  1000\n",
      "Total balance is :  475.0\n"
     ]
    }
   ],
   "source": [
    "obj=Bank(\"rohit\",1000,500)\n",
    "obj.deposite(500)\n",
    "obj.widrowl(100)\n",
    "obj.display()"
   ]
  },
  {
   "cell_type": "markdown",
   "metadata": {
    "id": "QovcQAZTrgGU"
   },
   "source": [
    "##`Q-3:Computation class`\n",
    "\n",
    "1. Create a `Computation` class with a default constructor (without parameters) allowing to perform various calculations on integers numbers.\n",
    "2. Create a method called `Factorial()` which allows to calculate the factorial of an integer n. Integer n as parameter for this method\n",
    "\n",
    "3. Create a method called `naturalSum()` allowing to calculate the sum of the first n integers 1 + 2 + 3 + .. + n. Integer n as parameter for this method.\n",
    "\n",
    "4. Create a method called `testPrime()` in  the Calculation class to test the primality of a given integer n, n is Prime or Not? Integer n as parameter for this method.\n",
    "\n",
    "5. Create  a method called `testPrims()` allowing to test if two numbers are prime between them. Two integers are prime to one another if they have only `1` as their common divisor. Eg. 4 and 9 are prime to each other.\n",
    "\n",
    "5. Create a `tableMult()` method which creates and displays the multiplication table of a given integer. Then create an `allTablesMult()` method to display all the integer multiplication tables 1, 2, 3, ..., 9.\n",
    "\n",
    "6. Create a static `listDiv()` method that gets all the divisors of a given integer on new list called  Ldiv. Create another `listDivPrim()` method that gets all the prime divisors of a given integer."
   ]
  },
  {
   "cell_type": "code",
   "execution_count": 2,
   "metadata": {
    "id": "YEkPH70l6Z-o"
   },
   "outputs": [],
   "source": [
    "class Computation:\n",
    "    def __init__(self):\n",
    "        self.fact = 1  \n",
    "        self.num = 0\n",
    "        self.prime = 2\n",
    "\n",
    "    def factorial(self, n):\n",
    "        self.fact = 1  \n",
    "        for i in range(1, n + 1):\n",
    "            self.fact *= i\n",
    "        return self.fact  \n",
    "\n",
    "    def naturalSum(self, num):\n",
    "        self.num = sum(range(num + 1))  # ✅ `sum()` function optimized\n",
    "        return self.num    \n",
    "\n",
    "    def testPrime(self, num):\n",
    "        if num < 2:\n",
    "            return \"Not Prime\"  # ✅ 0 & 1 not prime\n",
    "        for i in range(2, int(num ** 0.5) + 1):  # ✅ Optimization using √num\n",
    "            if num % i == 0:\n",
    "                return \"Not Prime\"\n",
    "        return \"Prime\"\n",
    "\n",
    "\n",
    "    def tableMult(self, num, i=1):\n",
    "        if i > 10:  # ✅ Base Case: Table madhe fakt 10 paryant values yetat\n",
    "            return \"\"\n",
    "        \n",
    "        return f\"{num} × {i} = {num * i}\\n\" + self.tableMult(num, i + 1)  # ✅ Recursive Call\n",
    "\n",
    "    def display(self, n):\n",
    "        print(f\"The factorial of {n} is {self.factorial(n)}\")  \n",
    "        print(f\"The sum of natural numbers up to {n} is {self.naturalSum(n)}\")\n",
    "        print(f\"The given number is {self.testPrime(n)}\")\n",
    "        print(self.tableMult(n))"
   ]
  },
  {
   "cell_type": "code",
   "execution_count": 3,
   "metadata": {},
   "outputs": [
    {
     "name": "stdin",
     "output_type": "stream",
     "text": [
      "Enter the factorial number:  6\n"
     ]
    },
    {
     "name": "stdout",
     "output_type": "stream",
     "text": [
      "The factorial of 6 is 720\n",
      "The sum of natural numbers up to 6 is 21\n",
      "The given number is Not Prime\n",
      "6 × 1 = 6\n",
      "6 × 2 = 12\n",
      "6 × 3 = 18\n",
      "6 × 4 = 24\n",
      "6 × 5 = 30\n",
      "6 × 6 = 36\n",
      "6 × 7 = 42\n",
      "6 × 8 = 48\n",
      "6 × 9 = 54\n",
      "6 × 10 = 60\n",
      "\n"
     ]
    }
   ],
   "source": [
    "# Object Create Kela\n",
    "obj = Computation()\n",
    "\n",
    "#  User kadun number ghetla\n",
    "num = int(input(\"Enter the factorial number: \"))\n",
    "\n",
    "#  Output display Kela\n",
    "obj.display(num)"
   ]
  },
  {
   "cell_type": "markdown",
   "metadata": {
    "id": "0yn23_oEriXa"
   },
   "source": [
    "##`Q-4`: Build flashcard using class in Python.\n",
    "\n",
    "Build a flashcard using class in python. A flashcard is a card having information on both sides, which can be used as an aid in memoization. Flashcards usually have a question on one side and an answer on the other.\n",
    "\n",
    "**Example 1:**\n",
    "\n",
    "Approach:\n",
    "\n",
    "- Create a class named FlashCard.\n",
    "- Initialize dictionary fruits using __init__() method. Here you have to define fruit name as key and it's color as value. E.g., {\"Banana\": \"yellow\", \"Strawberries\": \"pink\"}\n",
    "- Now randomly choose a pair from fruits by using _random_ module and store the key in variable _fruit_ and _value_ in variable color.\n",
    "- Now prompt the user to answer the color of the randomly chosen fruit.\n",
    "- If correct print correct else print wrong.\n",
    "\n",
    "Output:\n",
    "```bash\n",
    "welcome to fruit quiz\n",
    "What is the color of Strawberries\n",
    "pink\n",
    "Correct answer\n",
    "Enter 0, if you want to play again: 0\n",
    "What is the color of watermelon\n",
    "green\n",
    "Correct answer\n",
    "Enter 0, if you want to play again: 1\n",
    "```"
   ]
  },
  {
   "cell_type": "code",
   "execution_count": null,
   "metadata": {
    "id": "vCrUF6VU6l6w"
   },
   "outputs": [],
   "source": [
    "# write your code here\n"
   ]
  },
  {
   "cell_type": "markdown",
   "metadata": {
    "id": "GN2r0jbRewYr"
   },
   "source": [
    "## `Q-5:` Problem 5 based on OOP Python.\n",
    "\n",
    "TechWorld, a technology training center, wants to allocate courses for instructors. An instructor is identified by name, technology skills, experience and average feedback. An instructor is allocated a course, if he/she satisfies the below two conditions:\n",
    "- eligibility criteria:\n",
    "    - if experience is more than 3 years, average feedback should be 4.5 or more\n",
    "    - if experience is 3 years or less, average feedback should be 4 or more\n",
    "- he/she should posses the technology skill for the course\n",
    "\n",
    "Identify the class name and attributes to represent instructors. Write a Python program to implement the class chosen with its attributes and methods.\n",
    "\n",
    "**Note:**\n",
    "- Consider all instance variables to be private and methods to be public.\n",
    "- An instructor may have multiple technology skills, so consider instance variable, technology_skill to be a list.\n",
    "- *check_eligibility()*: Return true if eligibility criteria is satisfied by the instructor. Else, return false\n",
    "- *allocate_course(technology)*: Return true if the course which requires the given technology can be allocated to the instructor. Else, return false.\n",
    "\n",
    "Represent a few objects of the class, initialize instance variables using setter methods, invoke\n",
    "appropriate methods and test your program."
   ]
  },
  {
   "cell_type": "code",
   "execution_count": null,
   "metadata": {
    "id": "pdMFuVFnlvKL"
   },
   "outputs": [],
   "source": [
    "# write your code here\n"
   ]
  }
 ],
 "metadata": {
  "colab": {
   "provenance": []
  },
  "kernelspec": {
   "display_name": "Python 3 (ipykernel)",
   "language": "python",
   "name": "python3"
  },
  "language_info": {
   "codemirror_mode": {
    "name": "ipython",
    "version": 3
   },
   "file_extension": ".py",
   "mimetype": "text/x-python",
   "name": "python",
   "nbconvert_exporter": "python",
   "pygments_lexer": "ipython3",
   "version": "3.13.0"
  }
 },
 "nbformat": 4,
 "nbformat_minor": 4
}
