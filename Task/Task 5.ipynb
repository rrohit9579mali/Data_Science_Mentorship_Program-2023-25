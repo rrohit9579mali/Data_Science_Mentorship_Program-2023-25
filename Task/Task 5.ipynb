{
 "cells": [
  {
   "cell_type": "markdown",
   "metadata": {
    "id": "limD5IAfl-tz"
   },
   "source": [
    "# Tuple\n"
   ]
  },
  {
   "cell_type": "markdown",
   "metadata": {
    "id": "nSTn3CjbmB7q"
   },
   "source": [
    "###`Q1:` Join Tuples if similar initial element\n",
    "While working with Python tuples, we can have a problem in which we need to perform concatenation of records from the similarity of initial element. This problem can have applications in data domains such as Data Science.\n",
    "\n",
    "For eg.\n",
    "```\n",
    "Input  : test_list = [(5, 6), (5, 7), (5, 8), (6, 10), (7, 13)]\n",
    "Output : [(5, 6, 7, 8), (6, 10), (7, 13)]\n",
    "```"
   ]
  },
  {
   "cell_type": "code",
   "execution_count": 21,
   "metadata": {
    "id": "hwVeEvH9rJzU"
   },
   "outputs": [
    {
     "name": "stdout",
     "output_type": "stream",
     "text": [
      "[(5, 6, 7, 8), (6, 10), (7, 13)]\n"
     ]
    }
   ],
   "source": [
    "listx = [(5, 6), (5, 7), (5, 8), (6, 10), (7, 13)]\n",
    "unique = []\n",
    "\n",
    "# Unique first elements ko collect karna\n",
    "for i in listx:\n",
    "    unique.append(i[0])\n",
    "unique = set(unique) # Duplicate hata ke unique values lena\n",
    "\n",
    "result = []\n",
    "for i in unique:\n",
    "    result.append([i])  # Pehle first element daalna\n",
    "    for j in listx:\n",
    "        if i == j[0]:  # Same first element wale tuples ko check karna\n",
    "            result[-1].append(j[1])  # Second value ko append karna\n",
    "\n",
    "# List ko tuple me convert karna\n",
    "result = [tuple(sublist) for sublist in result]\n",
    "\n",
    "print(result)\n"
   ]
  },
  {
   "cell_type": "markdown",
   "metadata": {
    "id": "ujQpZOFFmeha"
   },
   "source": [
    "###`Q2:` Multiply Adjacent elements (both side) and take sum of right and lest side multiplication result.\n",
    "\n",
    "\n",
    "For eg.\n",
    "```\n",
    "The original tuple : (1, 5, 7, 8, 10)\n",
    "Resultant tuple after multiplication :\n",
    "\n",
    "(1*5, 1*5+5*7, 7*5 + 7*8, 8*7 + 8*10, 10*8) -> (5, 40, 91, 136, 80)\n",
    "\n",
    "output-(5, 40, 91, 136, 80)\n",
    "```"
   ]
  },
  {
   "cell_type": "code",
   "execution_count": 48,
   "metadata": {
    "id": "N9lveEsArNVc"
   },
   "outputs": [
    {
     "name": "stdout",
     "output_type": "stream",
     "text": [
      "[5, 40, 91, 136, 80]\n"
     ]
    }
   ],
   "source": [
    "t = (1, 5, 7, 8, 10)\n",
    "res = []\n",
    "x = len(t)\n",
    "res.append(t[0]*t[1])\n",
    "for index in range(1,x-1):\n",
    "      # Middle elements ke liye\n",
    "        res.append(t[index] * t[index + 1] + t[index] * t[index - 1])\n",
    "\n",
    "res.append(t[-1]*t[-2])\n",
    "print(res)"
   ]
  },
  {
   "cell_type": "markdown",
   "metadata": {
    "id": "x0psnUiu2ZVp"
   },
   "source": [
    "###`Q3`: Check is tuples are same or not?\n",
    "Two tuples would be same if both tuples have same element at same index\n",
    "```\n",
    "t1 = (1,2,3,0)\n",
    "t2 = (0,1,2,3)\n",
    "\n",
    "t1 and t2 are not same\n",
    "```"
   ]
  },
  {
   "cell_type": "code",
   "execution_count": 92,
   "metadata": {
    "id": "JMVw9EhSrPEc"
   },
   "outputs": [
    {
     "name": "stdout",
     "output_type": "stream",
     "text": [
      "False\n"
     ]
    }
   ],
   "source": [
    "t1 = (1, 2, 3, 0)\n",
    "t2 = (1, 2, 4, 1)\n",
    "\n",
    "s1 = len(t1)\n",
    "s2 = len(t2)\n",
    "\n",
    "F = True  # Default True rakho, taki koi bhi mismatch False kar sake\n",
    "\n",
    "for i in range(min(s1, s2)):  # Dono tuples ki minimum length tak check karo\n",
    "    if t1[i] != t2[i]:  # Agar ek bhi element alag mila to False return karo\n",
    "        F = False\n",
    "        break  \n",
    "\n",
    "print(F)\n"
   ]
  },
  {
   "cell_type": "markdown",
   "metadata": {
    "id": "aZ4rObHK4fCN"
   },
   "source": [
    "###`Q4`: Count no of tuples, list and set from a list\n",
    "```\n",
    "list1 = [{'hi', 'bye'},{'Geeks', 'forGeeks'},('a', 'b'),['hi', 'bye'],['a', 'b']]\n",
    "\n",
    "```\n",
    "`Output:`\n",
    "\n",
    "```\n",
    "List-2\n",
    "Set-2\n",
    "Tuples-1\n",
    "```"
   ]
  },
  {
   "cell_type": "code",
   "execution_count": 98,
   "metadata": {
    "id": "g_Bnuczk69tG"
   },
   "outputs": [
    {
     "name": "stdout",
     "output_type": "stream",
     "text": [
      "Lists: 0, Tuples: 1, Sets: 2, Dictionaries: 0\n"
     ]
    }
   ],
   "source": [
    "# write your code here\n",
    "list1 = [{'hi', 'bye'},{'Geeks', 'forGeeks'},('a', 'b'),['hi', 'bye'],['a', 'b']]\n",
    "l=0\n",
    "t=0\n",
    "s=0\n",
    "d=0\n",
    "for i in list1:\n",
    "    if type(i)==list:\n",
    "        l+=1\n",
    "    elif type(i)==set:\n",
    "        s+=1\n",
    "    elif type(i)==tuple:\n",
    "       t+=1\n",
    " \n",
    "\n",
    "print(f\"Lists: {l}, Tuples: {t}, Sets: {s}, Dictionaries: {d}\")\n",
    "        "
   ]
  },
  {
   "cell_type": "markdown",
   "metadata": {
    "id": "jInFNuit8hf1"
   },
   "source": [
    "###`Q5`: Shortlist Students for a Job role\n",
    "Ask user to input students record and store in tuples for each record. Then Ask user to input three things he wants in the candidate- Primary Skill, Higher Education, Year of Graduation.\n",
    "\n",
    "Show every students record in form of tuples if matches all required criteria.\n",
    "\n",
    "It is assumed that there will be only one primry skill.\n",
    "\n",
    "If no such candidate found, print `No such candidate`\n",
    "\n",
    "`Input:`\n",
    "```\n",
    "Enter No of records- 2\n",
    "Enter Details of student-1\n",
    "Enter Student name- Manohar\n",
    "Enter Higher Education- B.Tech\n",
    "Enter Primary Skill- Python\n",
    "Enter Year of Graduation- 2022\n",
    "Enter Details of student-2\n",
    "Enter Student name- Ponian\n",
    "Enter Higher Education- B.Sc.\n",
    "Enter Primary Skill- C++\n",
    "Enter Year of Graduation- 2020\n",
    "\n",
    "Enter Job Role Requirement\n",
    "Enter Skill- Python\n",
    "Enter Higher Education- B.Tech\n",
    "Enter Year of Graduation- 2022\n",
    "```\n",
    "\n",
    "`Output`\n",
    "```\n",
    "('Manohar', 'B.tech', 'Python', '2022')\n",
    "```\n"
   ]
  },
  {
   "cell_type": "code",
   "execution_count": null,
   "metadata": {
    "id": "erh9QZaerSHk"
   },
   "outputs": [
    {
     "name": "stdin",
     "output_type": "stream",
     "text": [
      "Enter No of records- 0\n"
     ]
    }
   ],
   "source": [
    "num = int(input(\"Enter No of records-\"))\n",
    "\n",
    "student = []  # List to store student details\n",
    "\n",
    "# Taking student details\n",
    "for i in range(num):\n",
    "    print(f\"\\nEnter Details of Student {i+1}-\")\n",
    "    name = input(\"Enter Student Name: \")\n",
    "    education = input(\"Enter Higher Education: \")\n",
    "    prskill = input(\"Enter Primary Skill: \")\n",
    "    Ugy = input(\"Enter Year of Graduation: \")\n",
    "\n",
    "    student.append((name, prskill, education, Ugy))  # Store all student details\n",
    "\n",
    "# Taking Job Role Requirement\n",
    "print(\"\\nEnter Job Role Requirement\")\n",
    "rskill = input(\"Enter Required Skill: \")\n",
    "reducation = input(\"Enter Required Higher Education: \")\n",
    "rUgy = input(\"Enter Required Year of Graduation: \")\n",
    "\n",
    "flag = False  # To check if a student is found\n",
    "\n",
    "# Searching for matching student\n",
    "for i in student:\n",
    "    if i[1] == rskill and i[2] == reducation and i[3] == rUgy:  # Correct index\n",
    "        print(\"\\nMatching Student Found:\")\n",
    "        print(i)\n",
    "        flag = True\n",
    "\n",
    "if not flag:\n",
    "    print(\"\\nNo Student Found\")\n"
   ]
  },
  {
   "cell_type": "markdown",
   "metadata": {
    "id": "l4hLvwD2BeIN"
   },
   "source": [
    "# Set"
   ]
  },
  {
   "cell_type": "markdown",
   "metadata": {
    "id": "zCX0Sk2IBfu8"
   },
   "source": [
    "###`Q1:` Write a program to find set of common elements in three lists using sets.\n",
    "```\n",
    "Input : ar1 = [1, 5, 10, 20, 40, 80]\n",
    "        ar2 = [6, 7, 20, 80, 100]\n",
    "        ar3 = [3, 4, 15, 20, 30, 70, 80, 120]\n",
    "\n",
    "Output : [80, 20]\n",
    "```"
   ]
  },
  {
   "cell_type": "code",
   "execution_count": 20,
   "metadata": {
    "id": "rqATYpBUrUQU"
   },
   "outputs": [
    {
     "name": "stdout",
     "output_type": "stream",
     "text": [
      "{1, 5, 40, 10, 80, 20}\n",
      "{80, 20}\n",
      "[80, 20]\n"
     ]
    }
   ],
   "source": [
    "# write your code here\n",
    "ar1 = [1, 5, 10, 20, 40, 80]\n",
    "ar2 = [6, 7, 20, 80, 100]\n",
    "ar3 = [3, 4, 15, 20, 30, 70, 80, 120]\n",
    "s1=set(ar1)\n",
    "s2=set(ar2)\n",
    "s3=set(ar3)\n",
    "print(s1)\n",
    "n=s1.intersection(s2)\n",
    "x=s3.intersection(s2)\n",
    "print(x )\n",
    "\n",
    "#  another way \n",
    "x=list((s1 & s2) & s3) \n",
    "print(x)"
   ]
  },
  {
   "cell_type": "markdown",
   "metadata": {
    "id": "0gOVS-0yCYrK"
   },
   "source": [
    "###`Q2:` Write a program to count unique number of vowels using sets in a given string. Lowercase and upercase vowels will be taken as different.\n",
    "\n",
    "`Input:`\n",
    "```\n",
    "Str1 = \"hands-on data science mentorship progrAm with live classes at affordable fee only on CampusX\"\n",
    "```\n",
    "`Output:`\n",
    "```\n",
    "No of unique vowels-6\n",
    "```"
   ]
  },
  {
   "cell_type": "code",
   "execution_count": 32,
   "metadata": {
    "id": "0vAlEAOzDihm"
   },
   "outputs": [
    {
     "name": "stdout",
     "output_type": "stream",
     "text": [
      "The number of Unique Element in Str Is  5\n"
     ]
    }
   ],
   "source": [
    "# write your code here\n",
    "str1 = set(\"hands-on data science mentorship program with live classes at an affordable fee only on CampusX\")\n",
    "x = set(\"aeiou\")  # Lowercase vowels\n",
    "(x & str1)  # Common vowels\n",
    "print(\"The number of Unique Element in Str Is : \",len(x))"
   ]
  },
  {
   "cell_type": "markdown",
   "metadata": {
    "id": "fqLZxiarEne5"
   },
   "source": [
    "### `Q3:` Write a program to Check if a given string is binary string of or not.\n",
    "\n",
    "A string is said to be binary if it's consists of only two unique characters.\n",
    "\n",
    "Take string input from user.\n",
    "\n",
    "```\n",
    "Input: str = \"01010101010\"\n",
    "Output: Yes\n",
    "\n",
    "Input: str = \"1222211\"\n",
    "Output: Yes\n",
    "\n",
    "Input: str = \"Campusx\"\n",
    "Output: No\n",
    "```"
   ]
  },
  {
   "cell_type": "code",
   "execution_count": 46,
   "metadata": {
    "id": "5M5v8LoYrXkE"
   },
   "outputs": [
    {
     "name": "stdout",
     "output_type": "stream",
     "text": [
      "This iS binary String . \n"
     ]
    }
   ],
   "source": [
    "# write your code \n",
    "str=\"01010101010\"\n",
    "x=set(str)\n",
    "if len(x)==2:\n",
    "    print(\"This iS binary String . \")\n",
    "else:\n",
    "    print(\"The str s not binary \")"
   ]
  },
  {
   "cell_type": "markdown",
   "metadata": {
    "id": "xXS8wYH1mDqx"
   },
   "source": [
    "### `Q4`: find union of n arrays.\n",
    "\n",
    "**Example 1:**\n",
    "\n",
    "Input:\n",
    "```bash\n",
    "[[1, 2, 2, 4, 3, 6],\n",
    " [5, 1, 3, 4],\n",
    " [9, 5, 7, 1],\n",
    " [2, 4, 1, 3]]\n",
    "```\n",
    "\n",
    "Output:\n",
    "\n",
    "```bash\n",
    "[1, 2, 3, 4, 5, 6, 7, 9]\n",
    "```"
   ]
  },
  {
   "cell_type": "code",
   "execution_count": 49,
   "metadata": {
    "id": "FVNyK6MbncU8"
   },
   "outputs": [
    {
     "name": "stdout",
     "output_type": "stream",
     "text": [
      "{1, 2, 3, 4, 5, 6, 7, 9}\n"
     ]
    }
   ],
   "source": [
    "# write your code here\n",
    "lis=[[1, 2, 2, 4, 3, 6],[5, 1, 3, 4],[9, 5, 7, 1],[2, 4, 1, 3]]\n",
    "x=set()\n",
    "for i in lis:\n",
    "    x.update(i)\n",
    "print(x)\n",
    "\n"
   ]
  },
  {
   "cell_type": "markdown",
   "metadata": {
    "id": "T_Re21BdndOz"
   },
   "source": [
    "### `Q5`: Intersection of two lists. Intersection of two list means we need to take all those elements which are common to both of the initial lists and store them into another list. Only use using **list-comprehension**.\n",
    "\n",
    "**Example 1:**\n",
    "\n",
    "Input:\n",
    "```bash\n",
    "lst1 = {15, 9, 10, 56, 23, 78, 5, 4, 9}\n",
    "lst2 = {9, 4, 5, 36, 47, 26, 10, 45, 87}\n",
    "```\n",
    "\n",
    "Output:\n",
    "```bash\n",
    "[9, 10, 4, 5]\n",
    "```\n",
    "\n",
    "**Example 2:**\n",
    "\n",
    "Input:\n",
    "```bash\n",
    "lst1 = {4, 9, 1, 17, 11, 26, 28, 54, 69}\n",
    "lst2 = {9, 9, 74, 21, 45, 11, 63, 28, 26}\n",
    "```\n",
    "\n",
    "Output:\n",
    "```bash\n",
    "[9, 11, 26, 28]\n",
    "```"
   ]
  },
  {
   "cell_type": "code",
   "execution_count": 12,
   "metadata": {
    "id": "nWnL25ftoLVT"
   },
   "outputs": [
    {
     "data": {
      "text/plain": [
       "[9, 11, 26, 28]"
      ]
     },
     "execution_count": 12,
     "metadata": {},
     "output_type": "execute_result"
    }
   ],
   "source": [
    "# write your code here\n",
    "lst1 = list({4, 9, 1, 17, 11, 26, 28, 54, 69})\n",
    "lst2 = {9, 9, 74, 21, 45, 11, 63, 28, 26}\n",
    "x=set()\n",
    "[itm for itm in lst1 if itm in lst2]  "
   ]
  },
  {
   "cell_type": "markdown",
   "metadata": {
    "id": "tD2RSYn1a8oA"
   },
   "source": [
    "# Dictionary"
   ]
  },
  {
   "cell_type": "markdown",
   "metadata": {
    "id": "7tUjHhcPbQzQ"
   },
   "source": [
    "### `Q1`: Key with maximum unique values\n",
    "\n",
    "Given a dictionary with values list, extract key whose value has most unique values.\n",
    "\n",
    "**Example 1:**\n",
    "\n",
    "Input:\n",
    "\n",
    "```bash\n",
    "test_dict = {\"CampusX\" : [5, 7, 9, 4, 0], \"is\" : [6, 7, 4, 3, 3], \"Best\" : [9, 9, 6, 5, 5]}\n",
    "```\n",
    "\n",
    "Output:\n",
    "```bash\n",
    "CampusX\n",
    "```\n",
    "\n",
    "**Example 2:**\n",
    "\n",
    "Input:\n",
    "```bash\n",
    "test_dict = {\"CampusX\" : [5, 7, 7, 7, 7], \"is\" : [6, 7, 7, 7], \"Best\" : [9, 9, 6, 5, 5]}\n",
    "```\n",
    "\n",
    "Output:\n",
    "```bash\n",
    "Best\n",
    "```"
   ]
  },
  {
   "cell_type": "code",
   "execution_count": 30,
   "metadata": {
    "id": "N8KHX863lNxL"
   },
   "outputs": [
    {
     "name": "stdout",
     "output_type": "stream",
     "text": [
      "Maximum value: CampusX\n"
     ]
    }
   ],
   "source": [
    "testd = {\"CampusX\": [5, 7, 7, 7, 7], \"is\": [6, 7, 7, 7], \"Best\": [9, 9, 6, 5, 5]}\n",
    "\n",
    "max_value = float('-inf')  # Initialize with a very small value\n",
    "keyn=\"\"\n",
    "for key in testd:\n",
    "    current_max = max(testd[key])  # Get the max value of the current list\n",
    "    if current_max > max_value:\n",
    "        max_value = current_max\n",
    "        keyn=i\n",
    "\n",
    "print(\"Maximum value:\",keyn)\n"
   ]
  },
  {
   "cell_type": "markdown",
   "metadata": {
    "id": "_S5X6C84dWdJ"
   },
   "source": [
    "### `Q2`: Replace words from Dictionary. Given String, replace it’s words from lookup dictionary.\n",
    "\n",
    "**Example 1:**\n",
    "\n",
    "Input:\n",
    "\n",
    "```bash\n",
    "test_str = 'CampusX best for DS students.'\n",
    "repl_dict = {\"best\" : \"is the best channel\", \"DS\" : \"Data-Science\"}\n",
    "```\n",
    "\n",
    "Output:\n",
    "\n",
    "```bash\n",
    "CampusX is the best channel for Data-Science students.\n",
    "```\n",
    "\n",
    "**Example 2:**\n",
    "\n",
    "Input:\n",
    "```bash\n",
    "test_str = 'CampusX best for DS students.'\n",
    "repl_dict = {\"good\" : \"is the best channel\", \"ds\" : \"Data-Science\"}\n",
    "```\n",
    "\n",
    "Output:\n",
    "```bash\n",
    "CampusX best for DS students.\n",
    "```"
   ]
  },
  {
   "cell_type": "code",
   "execution_count": 40,
   "metadata": {
    "id": "BTAQ8qnrlOxr"
   },
   "outputs": [
    {
     "name": "stdout",
     "output_type": "stream",
     "text": [
      "CampusX best for Data-Science students.\n"
     ]
    }
   ],
   "source": [
    "test = 'CampusX best for DS students.'\n",
    "repl_dict = {\"best\": \"is the best channel\", \"DS\": \"Data-Science\"}\n",
    "\n",
    "result = []\n",
    "\n",
    "for word in test.split():\n",
    "    if word in repl_dict:  # Check if the word exists in the replacement dictionary\n",
    "        result.append(repl_dict[word])  # Append the replacement\n",
    "    else:\n",
    "        result.append(word)  # Append the original word if no replacement is found\n",
    "\n",
    "final_result = ' '.join(result)\n",
    "print(final_result)\n"
   ]
  },
  {
   "cell_type": "markdown",
   "metadata": {
    "id": "55xgap3zfbcR"
   },
   "source": [
    "### `Q3`: Convert List to List of dictionaries. Given list values and keys list, convert these values to key value pairs in form of list of dictionaries.\n",
    "\n",
    "**Example 1:**\n",
    "\n",
    "Input:\n",
    "```bash\n",
    "test_list = [\"DataScience\", 3, \"is\", 8]\n",
    "key_list = [\"name\", \"id\"]\n",
    "```\n",
    "\n",
    "Output:\n",
    "\n",
    "```bash\n",
    "[{'name': 'DataScience', 'id': 3}, {'name': 'is', 'id': 8}]\n",
    "```\n",
    "\n",
    "**Example 2:**\n",
    "\n",
    "Input:\n",
    "```bash\n",
    "test_list = [\"CampusX\", 10]\n",
    "key_list = [\"name\", \"id\"]\n",
    "```\n",
    "\n",
    "Output:\n",
    "\n",
    "```bash\n",
    "[{'name': 'CampusX', 'id': 10}]\n",
    "```"
   ]
  },
  {
   "cell_type": "code",
   "execution_count": 53,
   "metadata": {
    "id": "jbCajI87lQFr"
   },
   "outputs": [
    {
     "name": "stdout",
     "output_type": "stream",
     "text": [
      "[{'name': 'DataScience', 'id': 3}, {'name': 'is', 'id': 8}]\n"
     ]
    }
   ],
   "source": [
    "# write your code here\n",
    "test_list = [\"DataScience\", 3, \"is\", 8]\n",
    "res=[]\n",
    "key_list = [\"name\", \"id\"]\n",
    "n=len(test_list)\n",
    "for i in range(0,n,2):\n",
    "    res.append({key_list[0]:test_list[i] ,key_list[1]:test_list[i+1]})\n",
    "print(res)    "
   ]
  },
  {
   "cell_type": "markdown",
   "metadata": {
    "id": "5RxBlLQahLkB"
   },
   "source": [
    "### `Q4`: Convert a list of Tuples into Dictionary.\n",
    "\n",
    "**Example 1:**\n",
    "\n",
    "Input:\n",
    "```bash\n",
    "[(\"akash\", 10), (\"gaurav\", 12), (\"anand\", 14), (\"suraj\", 20), (\"akhil\", 25), (\"ashish\", 30)]\n",
    "```\n",
    "\n",
    "Output:\n",
    "```bash\n",
    "{'akash': [10], 'gaurav': [12], 'anand': [14], 'suraj': [20], 'akhil': [25], 'ashish': [30]}\n",
    "```\n",
    "\n",
    "**Example 2:**\n",
    "\n",
    "Input:\n",
    "```bash\n",
    "[('A', 1), ('B', 2), ('C', 3)]\n",
    "```\n",
    "\n",
    "Output:\n",
    "```bash\n",
    "{'A': [1], 'B': [2], 'C': [3]}\n",
    "```"
   ]
  },
  {
   "cell_type": "code",
   "execution_count": 61,
   "metadata": {
    "id": "f1yz7inMlQ5N"
   },
   "outputs": [
    {
     "name": "stdout",
     "output_type": "stream",
     "text": [
      "{'akash': [10], 'gaurav': [12], 'anand': [14], 'suraj': [20], 'akhil': [25], 'ashish': [30]}\n"
     ]
    }
   ],
   "source": [
    "# write your code here\n",
    "\n",
    "listt=[(\"akash\", 10), (\"gaurav\", 12), (\"anand\", 14), (\"suraj\", 20), (\"akhil\", 25), (\"ashish\", 30)]\n",
    "d={}\n",
    "for i,j in listt:\n",
    "    d [i]=[j]\n",
    "print(d)    "
   ]
  },
  {
   "cell_type": "markdown",
   "metadata": {
    "id": "Fz8EzJD-kBkS"
   },
   "source": [
    "### `Q5`: Sort Dictionary key and values List.\n",
    "\n",
    "**Example 1:**\n",
    "\n",
    "Input:\n",
    "\n",
    "```bash\n",
    "{'c': [3], 'b': [12, 10], 'a': [19, 4]}\n",
    "```\n",
    "\n",
    "Output:\n",
    "\n",
    "```bash\n",
    "{'a': [4, 19], 'b': [10, 12], 'c': [3]}\n",
    "```\n",
    "\n",
    "**Example 2:**\n",
    "\n",
    "Input:\n",
    "\n",
    "```bash\n",
    "{'c': [10, 34, 3]}\n",
    "```\n",
    "\n",
    "Output:\n",
    "\n",
    "```bash\n",
    "{'c': [3, 10, 34]}\n",
    "```"
   ]
  },
  {
   "cell_type": "code",
   "execution_count": null,
   "metadata": {
    "id": "x9UmJ4EQk7Pp"
   },
   "outputs": [],
   "source": [
    "# write your code here\n",
    "dic={'c': [3], 'b': [12, 10], 'a': [19, 4]}\n",
    "res=[]\n",
    "for i in sorted(d):\n",
    "    res[i]=sorder(d[i]"
   ]
  }
 ],
 "metadata": {
  "colab": {
   "provenance": []
  },
  "kernelspec": {
   "display_name": "Python 3 (ipykernel)",
   "language": "python",
   "name": "python3"
  },
  "language_info": {
   "codemirror_mode": {
    "name": "ipython",
    "version": 3
   },
   "file_extension": ".py",
   "mimetype": "text/x-python",
   "name": "python",
   "nbconvert_exporter": "python",
   "pygments_lexer": "ipython3",
   "version": "3.13.0"
  }
 },
 "nbformat": 4,
 "nbformat_minor": 4
}
