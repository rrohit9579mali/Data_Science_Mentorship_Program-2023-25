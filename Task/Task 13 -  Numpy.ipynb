{
 "cells": [
  {
   "cell_type": "markdown",
   "metadata": {
    "id": "6WdKdPGx-tnY"
   },
   "source": [
    "**Note: In Data Science googling is a very important skill. If you find some difficulties to solve the problem, google it and try to find some clues to solve.**"
   ]
  },
  {
   "cell_type": "code",
   "execution_count": 2,
   "metadata": {
    "id": "-J4F1ysN4mLk"
   },
   "outputs": [],
   "source": [
    "import numpy as np\n"
   ]
  },
  {
   "cell_type": "markdown",
   "metadata": {
    "id": "a_K8IH-C6HDK"
   },
   "source": [
    "###`Q-1` Create a null vector of size 10 but the fifth value which is 1.\n",
    "\n"
   ]
  },
  {
   "cell_type": "code",
   "execution_count": 3,
   "metadata": {
    "id": "sTF03KsZ6QUI"
   },
   "outputs": [
    {
     "name": "stdout",
     "output_type": "stream",
     "text": [
      "[0. 0. 0. 0. 1. 0. 0. 0. 0. 0.]\n"
     ]
    }
   ],
   "source": [
    "#Code here\n",
    "arr=np.zeros(10)\n",
    "arr[4]=1\n",
    "print(arr)"
   ]
  },
  {
   "cell_type": "markdown",
   "metadata": {
    "id": "TEiG25rS6S1i"
   },
   "source": [
    "###`Q-2` Ask user to input two numbers a, b. Write a program to generate a random array of shape (a, b) and print the array and avg of the array."
   ]
  },
  {
   "cell_type": "code",
   "execution_count": 6,
   "metadata": {
    "id": "ihwn4oOH6Vh7"
   },
   "outputs": [
    {
     "name": "stdin",
     "output_type": "stream",
     "text": [
      "Enter two numbers:  6 6\n"
     ]
    },
    {
     "name": "stdout",
     "output_type": "stream",
     "text": [
      "0.476450676818729\n"
     ]
    }
   ],
   "source": [
    "#Code here\n",
    "a, b = map(int, input(\"Enter two numbers: \").split())\n",
    "rand=np.random.random((a,b))\n",
    "avg=np.mean(rand)\n",
    "print(avg)"
   ]
  },
  {
   "cell_type": "markdown",
   "metadata": {
    "id": "2iEeybS06ZSq"
   },
   "source": [
    "###`Q-3`Write a function to create a 2d array with 1 on the border and 0 inside. Take 2-D array shape as (a,b) as parameter to function.\n",
    "\n",
    "Eg.-\n",
    "```\n",
    "[[1,1,1,1],\n",
    "[1,0,0,1],\n",
    "[1,0,0,1],\n",
    "[1,1,1,1]]\n",
    "```"
   ]
  },
  {
   "cell_type": "code",
   "execution_count": 18,
   "metadata": {
    "id": "gEKndkDU6ZSs"
   },
   "outputs": [
    {
     "name": "stdin",
     "output_type": "stream",
     "text": [
      " 4 4\n"
     ]
    },
    {
     "name": "stdout",
     "output_type": "stream",
     "text": [
      "[[1 1 1 1]\n",
      " [1 0 0 1]\n",
      " [1 0 0 1]\n",
      " [1 1 1 1]]\n"
     ]
    }
   ],
   "source": [
    "#Code here\n",
    "def array(a,b):\n",
    "       arr=np.arange(16).reshape(a,b)\n",
    "       arr[:,]=1\n",
    "       arr[1:3,1:3]=0\n",
    "       return arr\n",
    "a,b=map(int,input().split())\n",
    "arr=array(a,b)\n",
    "print(arr)"
   ]
  },
  {
   "cell_type": "markdown",
   "metadata": {
    "id": "QRJicQ8j6ZlE"
   },
   "source": [
    "###`Q-4` Create a vector of size 10 with values ranging from 0 to 1, both excluded.\n"
   ]
  },
  {
   "cell_type": "code",
   "execution_count": 91,
   "metadata": {
    "id": "eC4XLhDq6ZlF"
   },
   "outputs": [
    {
     "name": "stdout",
     "output_type": "stream",
     "text": [
      "[0 1 0 1 0 1 0 1 0 1]\n",
      "[0 1 0 1 0 1 0 1 0 1]\n"
     ]
    }
   ],
   "source": [
    "#Code here\n",
    "arr=np.arange(10)\n",
    "for i in arr:\n",
    "    if i%2==0:\n",
    "        arr[i]=0\n",
    "    else:\n",
    "        arr[i]=1\n",
    "\n",
    "print(arr)\n",
    "\n",
    "#  another option \n",
    "arr=np.arange(10)\n",
    "arr[arr%2==0]=0\n",
    "arr[arr%2==1]=1\n",
    "print(arr)\n",
    "\n"
   ]
  },
  {
   "cell_type": "markdown",
   "metadata": {
    "id": "vb4jK4yQ6Zs2"
   },
   "source": [
    "###`Q-5` Can you create a identity mattrix of shape (3,4). If yes write code for it."
   ]
  },
  {
   "cell_type": "code",
   "execution_count": 3,
   "metadata": {
    "id": "DTV_AbMS6Zs4"
   },
   "outputs": [
    {
     "name": "stdout",
     "output_type": "stream",
     "text": [
      "[[1. 0. 0. 0.]\n",
      " [0. 1. 0. 0.]\n",
      " [0. 0. 1. 0.]]\n"
     ]
    },
    {
     "name": "stdin",
     "output_type": "stream",
     "text": [
      " 3 4\n"
     ]
    },
    {
     "name": "stdout",
     "output_type": "stream",
     "text": [
      "[[1. 0. 0. 0.]\n",
      " [0. 1. 0. 0.]\n",
      " [0. 0. 1. 0.]]\n"
     ]
    }
   ],
   "source": [
    "import numpy as np\n",
    "\n",
    "mat = np.eye(3,4)  # 3x3 Identity Matrix\n",
    "print(mat)\n",
    "\n",
    "\n",
    "#  another way \n",
    "\n",
    "a,b=map(int,input().split())\n",
    "arr=np.zeros((a,b))\n",
    "for i in range(a-1):\n",
    "    mat[i][i] = 1  # Placing 1s in diagonal positions\n",
    "\n",
    "print(mat)"
   ]
  },
  {
   "cell_type": "code",
   "execution_count": 20,
   "metadata": {},
   "outputs": [
    {
     "name": "stdout",
     "output_type": "stream",
     "text": [
      "[[1. 0. 0.]\n",
      " [0. 1. 0.]\n",
      " [0. 0. 1.]]\n"
     ]
    }
   ],
   "source": [
    "arr=np.identity(3)\n",
    "print(arr)"
   ]
  },
  {
   "cell_type": "markdown",
   "metadata": {
    "id": "QtjAFm5PEntK"
   },
   "source": [
    "###`Q-6:` Create a 5x5 matrix with row values ranging from 0 to 4."
   ]
  },
  {
   "cell_type": "code",
   "execution_count": 30,
   "metadata": {
    "id": "z2WGxRjvEuRS"
   },
   "outputs": [
    {
     "name": "stdout",
     "output_type": "stream",
     "text": [
      "[[0 1 2 3 4]\n",
      " [0 1 2 3 4]\n",
      " [0 1 2 3 4]\n",
      " [0 1 2 3 4]\n",
      " [0 1 2 3 4]]\n"
     ]
    }
   ],
   "source": [
    "import numpy as np\n",
    "\n",
    "# 5x5 empty matrix\n",
    "matrix = np.zeros((5, 5), dtype=int)\n",
    "\n",
    "# Filling each row with values from 0 to 4 using for loop\n",
    "for i in range(5):\n",
    "    matrix[i] = np.arange(5)\n",
    "\n",
    "print(matrix)\n"
   ]
  },
  {
   "cell_type": "markdown",
   "metadata": {
    "id": "KPpvxKjVHnyx"
   },
   "source": [
    "###`Q-7:`  Consider a random integer (in range 1 to 100) vector with shape `(10,2)` representing coordinates, and coordinates of a point as array is given. Create an array of distance of each point in the random vectros from the given point. Distance array should be interger type.\n",
    "\n",
    "```\n",
    "point = np.array([2,3])\n",
    "```\n"
   ]
  },
  {
   "cell_type": "code",
   "execution_count": null,
   "metadata": {
    "id": "X7KGnWLNIM6f"
   },
   "outputs": [],
   "source": [
    "#code here\n"
   ]
  },
  {
   "cell_type": "markdown",
   "metadata": {
    "id": "tajOFJlCDwTr"
   },
   "source": [
    "###`Q-8:` Consider a (6,7,8) shape array, what is the index (x,y,z) of the 100th element?"
   ]
  },
  {
   "cell_type": "code",
   "execution_count": null,
   "metadata": {
    "id": "qH4oxvs0D3Ra"
   },
   "outputs": [],
   "source": [
    "#Code here"
   ]
  },
  {
   "cell_type": "markdown",
   "metadata": {
    "id": "9LxBAbT2Pw33"
   },
   "source": [
    "### `Q-9:` Arrays\n",
    "\n",
    "You are given a space separated list of numbers. Your task is to print a reversed NumPy array with the element type float.\n",
    "\n"
   ]
  },
  {
   "cell_type": "markdown",
   "metadata": {
    "id": "JJpqVms2Nq7L"
   },
   "source": [
    "**Input Format:**\n",
    "\n",
    "A single line of input containing space separated numbers.\n",
    "\n",
    "**Output Format:**\n",
    "\n",
    "Print the reverse NumPy array with type float.\n",
    "\n",
    "**Example 1:**\n",
    "\n",
    "Input:\n",
    "\n",
    "```bash\n",
    "1 2 3 4 -8 -10\n",
    "```\n",
    "\n",
    "Output:\n",
    "\n",
    "```bash\n",
    "[-10.  -8.   4.   3.   2.   1.]\n",
    "```"
   ]
  },
  {
   "cell_type": "code",
   "execution_count": 25,
   "metadata": {
    "id": "7iQyg6ChNl3j"
   },
   "outputs": [
    {
     "data": {
      "text/plain": [
       "array([-10.,  -8.,   4.,   3.,   2.,   1.])"
      ]
     },
     "execution_count": 25,
     "metadata": {},
     "output_type": "execute_result"
    }
   ],
   "source": [
    "#Code here\n",
    "arr=np.array([1 ,2, 3, 4, -8, -10],dtype=float)\n",
    "arr[::-1]"
   ]
  },
  {
   "cell_type": "markdown",
   "metadata": {
    "id": "TPxD7jM8Sjz9"
   },
   "source": [
    "### `Q-10:` Elements count\n",
    "\n",
    "Count the number of elements of a numpy array.\n",
    "\n"
   ]
  },
  {
   "cell_type": "markdown",
   "metadata": {
    "id": "oHTiTz_jNkAU"
   },
   "source": [
    "**Example 1:**\n",
    "\n",
    "Input:\n",
    "```bash\n",
    "np.array([])\n",
    "```\n",
    "\n",
    "Output:\n",
    "```bash\n",
    "elements_count :  0\n",
    "```\n",
    "\n",
    "**Example 2:**\n",
    "\n",
    "Input:\n",
    "```bash\n",
    "np.array([1, 2])\n",
    "```\n",
    "\n",
    "Output:\n",
    "```bash\n",
    "elements_count :  2\n",
    "```"
   ]
  },
  {
   "cell_type": "code",
   "execution_count": 33,
   "metadata": {
    "id": "RG0H2I-TNeGN"
   },
   "outputs": [
    {
     "name": "stdin",
     "output_type": "stream",
     "text": [
      " 5 9\n"
     ]
    },
    {
     "data": {
      "text/plain": [
       "45"
      ]
     },
     "execution_count": 33,
     "metadata": {},
     "output_type": "execute_result"
    }
   ],
   "source": [
    "#Code here\n",
    "a,b=map(int,input().split())\n",
    "arr=np.random.random((a,b))\n",
    "np.round(arr*100)\n",
    "\n",
    "size=np.size(arr)\n",
    "print(\"the total number of elements in array is : \")"
   ]
  },
  {
   "cell_type": "code",
   "execution_count": null,
   "metadata": {},
   "outputs": [],
   "source": [
    "np.exp()"
   ]
  },
  {
   "cell_type": "markdown",
   "metadata": {
    "id": "pwgPz-3l5ic5"
   },
   "source": [
    "### `Q-11:` Softmax function\n",
    "\n",
    "Create a Python function to calculate the Softmax of the given numpy 1D array. The function only accepts the numpy 1D array, otherwise raise error.\n",
    "\n",
    "$$\\Large \\sigma(\\vec z)_i = \\frac{e^{z_i}}{\\sum_{j=i}^{K}{e^{z_j}}}$$\n",
    "\n",
    "https://en.wikipedia.org/wiki/Softmax_function\n",
    "\n"
   ]
  },
  {
   "cell_type": "markdown",
   "metadata": {
    "id": "eZ3WJt6UM1ul"
   },
   "source": [
    "**Example 1:**\n",
    "\n",
    "Input:\n",
    "```bash\n",
    "[86.03331084 37.7285648  48.64908087 87.16563062 38.40852563 37.20006318]\n",
    "```\n",
    "\n",
    "Output:\n",
    "```bash\n",
    "[2.43733249e-01, 2.56112115e-22, 1.41628284e-17, 7.56266751e-01,\n",
    "       5.05514197e-22, 1.50974911e-22]\n",
    "```\n",
    "\n",
    "**Example 2:**\n",
    "\n",
    "Input:\n",
    "```bash\n",
    "[33.17344305 45.61961654 82.05405781 80.9647098  68.82830233 91.52064278]\n",
    "```\n",
    "\n",
    "Output:\n",
    "```bash\n",
    "[4.57181035e-26, 1.16249923e-20, 7.73872596e-05, 2.60358426e-05,\n",
    "       1.39571531e-10, 9.99896577e-01]\n",
    "```"
   ]
  },
  {
   "cell_type": "code",
   "execution_count": null,
   "metadata": {
    "id": "VNzj05lkNaNi"
   },
   "outputs": [],
   "source": [
    "#Code here"
   ]
  },
  {
   "cell_type": "markdown",
   "metadata": {
    "id": "k4JWSwWu_HXg"
   },
   "source": [
    "### `Q-12:` Vertical stack\n",
    "\n",
    "Write a python function that accepts infinite number of numpy arrays and do the vertical stack to them. Then return that new array as result. The function only accepts the numpy array, otherwise raise error.\n",
    "\n"
   ]
  },
  {
   "cell_type": "markdown",
   "metadata": {
    "id": "XhhV3mraNAWr"
   },
   "source": [
    "**Example 1:**\n",
    "\n",
    "Input:\n",
    "```bash\n",
    "a= [[0 1 2 3 4]\n",
    " [5 6 7 8 9]]\n",
    "\n",
    "b= [[1 1 1 1 1]\n",
    " [1 1 1 1 1]]\n",
    "```\n",
    "\n",
    "Output:\n",
    "\n",
    "```bash\n",
    "[[0 1 2 3 4]\n",
    " [5 6 7 8 9]\n",
    " [1 1 1 1 1]\n",
    " [1 1 1 1 1]]\n",
    "```\n",
    "\n",
    "**Example 2:**\n",
    "\n",
    "Input:\n",
    "```bash\n",
    "a= [[0 1 2 3 4]\n",
    " [5 6 7 8 9]]\n",
    "\n",
    "b= [[1 1 1 1 1]\n",
    " [1 1 1 1 1]]\n",
    "\n",
    "c= [[0.10117373 0.1677244  0.73764059 0.83166097 0.48985695]\n",
    " [0.44581567 0.13502419 0.55692335 0.16479622 0.61193593]]\n",
    "```\n",
    "\n",
    "Output:\n",
    "```bash\n",
    "[[0.         1.         2.         3.         4.        ]\n",
    " [5.         6.         7.         8.         9.        ]\n",
    " [1.         1.         1.         1.         1.        ]\n",
    " [1.         1.         1.         1.         1.        ]\n",
    " [0.10117373 0.1677244  0.73764059 0.83166097 0.48985695]\n",
    " [0.44581567 0.13502419 0.55692335 0.16479622 0.61193593]]\n",
    "```"
   ]
  },
  {
   "cell_type": "code",
   "execution_count": null,
   "metadata": {
    "id": "dhtnbSj6NP8z"
   },
   "outputs": [],
   "source": [
    "#Coder here"
   ]
  },
  {
   "cell_type": "markdown",
   "metadata": {
    "id": "3mk8T6CuC2DP"
   },
   "source": [
    "### `Q-13:` Dates\n",
    "\n",
    "Create a python function named **date_array** that accepts two dates as string format and returns a numpy array of dates between those 2 dates. The function only accept 2 strings, otherwise raise error. The date format should be like this only: `2022-12-6`. The end date should be included and for simplicity, choose dates from a same year.\n",
    "\n"
   ]
  },
  {
   "cell_type": "markdown",
   "metadata": {
    "id": "E3IgjnTTNFEk"
   },
   "source": [
    "**Example 1:**\n",
    "\n",
    "Input:\n",
    "```bash\n",
    "date_array(start = '2020-09-15', end = '2020-09-25')\n",
    "```\n",
    "\n",
    "Output:\n",
    "```bash\n",
    "['2020-09-15', '2020-09-16', '2020-09-17', '2020-09-18',\n",
    " '2020-09-19', '2020-09-20', '2020-09-21', '2020-09-22',\n",
    " '2020-09-23', '2020-09-24', '2020-09-25']\n",
    "```\n",
    "\n",
    "**Example 2:**\n",
    "\n",
    "Input:\n",
    "```bash\n",
    "date_array(start = '2022-12-01', end = '2022-12-06')\n",
    "```\n",
    "\n",
    "Output:\n",
    "```bash\n",
    "['2022-12-01', '2022-12-02', '2022-12-03', '2022-12-04', '2022-12-05', '2022-12-06']\n",
    "```\n",
    "\n",
    "**Example 3:**\n",
    "\n",
    "Input:\n",
    "```bash\n",
    "date_array(start = '2020-11-25', end = '2020-11-30')\n",
    "```\n",
    "\n",
    "Output:\n",
    "```bash\n",
    "['2020-11-25', '2020-11-26', '2020-11-27', '2020-11-28',\n",
    " '2020-11-29', '2020-11-30']\n",
    "```"
   ]
  },
  {
   "cell_type": "code",
   "execution_count": 49,
   "metadata": {
    "id": "Yj5PBfQQNTnL"
   },
   "outputs": [
    {
     "data": {
      "text/plain": [
       "array(['2022-12-01', '2022-12-02', '2022-12-03', '2022-12-04',\n",
       "       '2022-12-05'], dtype='datetime64[D]')"
      ]
     },
     "execution_count": 49,
     "metadata": {},
     "output_type": "execute_result"
    }
   ],
   "source": [
    "def date_array(start,end):\n",
    "    start_date=np.datetime64(start)\n",
    "    end_date=np.datetime64(end)\n",
    "    arr=np.arange(start_date,end_date)\n",
    "    return arr\n",
    "date_array(start = '2022-12-01', end = '2022-12-06')\n"
   ]
  },
  {
   "cell_type": "markdown",
   "metadata": {
    "id": "bcEp0wTWQijK"
   },
   "source": [
    "###`Q-14:` Subtract the mean of each row from a matrix."
   ]
  },
  {
   "cell_type": "code",
   "execution_count": 64,
   "metadata": {
    "id": "rpILVGcgQzMo"
   },
   "outputs": [
    {
     "name": "stdin",
     "output_type": "stream",
     "text": [
      " 5 6\n"
     ]
    },
    {
     "name": "stdout",
     "output_type": "stream",
     "text": [
      "[[98. 44. 24. 13. 53.]\n",
      " [77. 50. 22. 35. 98.]\n",
      " [49. 22. 51. 13. 84.]\n",
      " [34. 31.  5. 80. 91.]\n",
      " [15. 34. 19. 41. 31.]]\n",
      "45.0\n",
      "[[ 53.  -1. -21. -32.   8.]\n",
      " [ 32.   5. -23. -10.  53.]\n",
      " [  4. -23.   6. -32.  39.]\n",
      " [-11. -14. -40.  35.  46.]\n",
      " [-30. -11. -26.  -4. -14.]]\n"
     ]
    }
   ],
   "source": [
    "#code here\n",
    "a,b=map(int,input().split())\n",
    "r=np.round(matrix*100)\n",
    "print(r)\n",
    "mean=np.mean(r)\n",
    "n=np.round(mean)\n",
    "print(n)\n",
    "s=r-n\n",
    "print(s)"
   ]
  },
  {
   "cell_type": "markdown",
   "metadata": {
    "id": "A-dMVlPPSBTT"
   },
   "source": [
    "###`Q-15:` Swap column-1 of array with column-2 in the array."
   ]
  },
  {
   "cell_type": "code",
   "execution_count": null,
   "metadata": {
    "id": "3RtngM9-Q6S7"
   },
   "outputs": [],
   "source": [
    "#Code here"
   ]
  },
  {
   "cell_type": "code",
   "execution_count": 83,
   "metadata": {
    "id": "ueoMV_LlSnGU"
   },
   "outputs": [
    {
     "name": "stdout",
     "output_type": "stream",
     "text": [
      "[[ 0  1  2  3  4]\n",
      " [ 5  6  7  8  9]\n",
      " [10 11 12 13 14]\n",
      " [15 16 17 18 19]\n",
      " [20 21 22 23 24]]\n",
      "[[ 0  1  2  4  3]\n",
      " [ 5  6  7  9  8]\n",
      " [10 11 12 14 13]\n",
      " [15 16 17 19 18]\n",
      " [20 21 22 24 23]]\n"
     ]
    }
   ],
   "source": [
    "sc=np.arange(25).reshape(5,5)\n",
    "print(sc)\n",
    "sc[:,[4,3]]=sc[:,[3,4]]\n",
    "print(sc)"
   ]
  },
  {
   "cell_type": "markdown",
   "metadata": {
    "id": "cB4VMexvS6Zi"
   },
   "source": [
    "###`Q-16:` Replace odd elements in arrays with -1."
   ]
  },
  {
   "cell_type": "code",
   "execution_count": 87,
   "metadata": {
    "id": "Bt83nXEVS5O4"
   },
   "outputs": [
    {
     "name": "stdin",
     "output_type": "stream",
     "text": [
      " 5 5\n"
     ]
    },
    {
     "name": "stdout",
     "output_type": "stream",
     "text": [
      "[[ 0  1  2  3  4]\n",
      " [ 5  6  7  8  9]\n",
      " [10 11 12 13 14]\n",
      " [15 16 17 18 19]\n",
      " [20 21 22 23 24]]\n",
      "[[ 0 -1  2 -1  4]\n",
      " [-1  6 -1  8 -1]\n",
      " [10 -1 12 -1 14]\n",
      " [-1 16 -1 18 -1]\n",
      " [20 -1 22 -1 24]]\n"
     ]
    }
   ],
   "source": [
    "#Code here\n",
    "a,b=map(int,input().split())\n",
    "arr=np.arange(25).reshape(a,b)\n",
    "print(arr)\n",
    "arr[arr%2!=0]=-1\n",
    "print(arr)"
   ]
  },
  {
   "cell_type": "markdown",
   "metadata": {
    "id": "kf_qvmBxWIT_"
   },
   "source": [
    "###`Q-17:` Given two arrays of same shape make an array of max out of two arrays. (Numpy way)\n",
    "```\n",
    "a=np.array([6,3,1,5,8])\n",
    "b=np.array([3,2,1,7,2])\n",
    "\n",
    "Result-> [6 3 1 7 8]\n",
    "```"
   ]
  },
  {
   "cell_type": "code",
   "execution_count": 104,
   "metadata": {
    "id": "TB9ZvF-EZSfu"
   },
   "outputs": [
    {
     "name": "stdout",
     "output_type": "stream",
     "text": [
      "arr1   [[0 1 2 3 4]] \n",
      " arr2  [[ 6  7  8  9 10]]\n",
      "[[ 6  7  8  9 10]]\n"
     ]
    }
   ],
   "source": [
    "#Code here\n",
    "arr1=np.arange(5).reshape(1,5)\n",
    "arr2=np.arange(6,11).reshape(1,5)\n",
    "print(\"arr1  \",arr1,\"\\n arr2 \",arr2)\n",
    "max_values = np.maximum(arr1, arr2)\n",
    "print(max_values)"
   ]
  },
  {
   "cell_type": "markdown",
   "metadata": {
    "id": "iOQLUIeGc3zA"
   },
   "source": [
    "###`Q-18` Answer below asked questions on given array:\n",
    "1. Fetch Every alternate column of the array\n",
    "2. Normalise the given array\n",
    "\n",
    "https://en.wikipedia.org/wiki/Normalization_(statistics)\n",
    "\n",
    "There are different form of normalisation for this question use below formula.\n",
    "\n",
    "$$\\large X_{normalized} = \\frac{X - X_{min}}{X_{max} - X_{min}}$$\n",
    "\n",
    "```python\n",
    "arr1=np.random.randint(low=1, high=10000, size=40).reshape(8,5)\n",
    "```\n"
   ]
  },
  {
   "cell_type": "code",
   "execution_count": 117,
   "metadata": {
    "colab": {
     "base_uri": "https://localhost:8080/"
    },
    "id": "vjSm18k3d_1p",
    "outputId": "83d23b61-d2ae-41bc-e91e-0e0722667521"
   },
   "outputs": [
    {
     "name": "stdout",
     "output_type": "stream",
     "text": [
      "[[2210 7538 7285 5344 7272]\n",
      " [9018 2813 6017 9318 4623]\n",
      " [5576 5646 5815 8844 7945]\n",
      " [4122 1821 2783 7966 4447]\n",
      " [ 525 5543 4256 6705 3346]\n",
      " [3627 9519 8505   86 7217]\n",
      " [7433 4043 6686  301  161]\n",
      " [ 750  394 3208 3503 6886]]\n",
      "[[0.19839868 0.78678784 0.9135406 ]\n",
      " [1.         0.565187   0.57322713]\n",
      " [0.59472507 0.52988466 1.        ]\n",
      " [0.42352526 0.         0.55061665]\n",
      " [0.         0.25742747 0.40917266]\n",
      " [0.36524196 1.         0.90647482]\n",
      " [0.81337572 0.68210416 0.        ]\n",
      " [0.02649241 0.07427473 0.8639517 ]]\n"
     ]
    }
   ],
   "source": [
    "# Given\n",
    "arr1=np.random.randint(low=1, high=10000, size=40).reshape(8,5)\n",
    "print(arr1)\n",
    "x=arr1[:,::2]\n",
    "xmin=np.min(x,axis=0)\n",
    "xmax=np.max(x,axis=0)\n",
    "xnormalized=(x-xmin)/(xmax-xmin)\n",
    "print(xnormalized)"
   ]
  },
  {
   "cell_type": "markdown",
   "metadata": {
    "id": "jCzsVEKLgGNo"
   },
   "source": [
    "###`Q-19:` Write a function which will accept 2 arguments.\n",
    "First: A 1D numpy array arr\n",
    "\n",
    "Second: An integer n {Please make sure n<=len(arr)}\n",
    "\n",
    "Output: The output should be the nth largest item out of the array\n",
    "```\n",
    "# Example1 : arr=(12,34,40,7,1,0) and n=3, the output should be 12\n",
    "# Example2 : arr=(12,34,40,7,1,0) and n=1, the output should be 40\n",
    "```"
   ]
  },
  {
   "cell_type": "code",
   "execution_count": 40,
   "metadata": {
    "id": "J4AzkDk7gXSG"
   },
   "outputs": [
    {
     "name": "stdin",
     "output_type": "stream",
     "text": [
      "Enter value of n:  2\n"
     ]
    },
    {
     "name": "stdout",
     "output_type": "stream",
     "text": [
      "Maximum value in first 2 elements: 34\n"
     ]
    }
   ],
   "source": [
    "arr = np.array([12,34,40,7,1,0])\n",
    "n = int(input(\"Enter value of n: \"))\n",
    "# `n` चे validation करणे\n",
    "if n > len(arr) or n <= 0:\n",
    "    print(\"Invalid value of n\")\n",
    "else:\n",
    "    # पहिल्या `n` एलिमेंटमधून max शोधा\n",
    "    m = arr[0]\n",
    "    for i in range(n):\n",
    "        if m < arr[i]:\n",
    "            m = arr[i]\n",
    "            \n",
    "    print(\"Maximum value in first\", n, \"elements:\", m)\n",
    "# m=np.max(arr,n)\n",
    "# print(m)"
   ]
  },
  {
   "cell_type": "code",
   "execution_count": 42,
   "metadata": {},
   "outputs": [
    {
     "name": "stdout",
     "output_type": "stream",
     "text": [
      "40\n"
     ]
    }
   ],
   "source": [
    "arr\n",
    "np.sort(arr)\n",
    "if n<len(arr):\n",
    "    print(arr[n])\n",
    "    "
   ]
  },
  {
   "cell_type": "markdown",
   "metadata": {
    "id": "ja0xPCgjhBsg"
   },
   "source": [
    "###`Q-20:` Create the following pattern without hardcoding. Use only numpy functions and the below input array a.\n",
    "```\n",
    "# Input: a = np.array([1,2,3])\n",
    "# Output: array([1, 1, 1, 2, 2, 2, 3, 3, 3, 1, 2, 3, 1, 2, 3, 1, 2, 3])\n",
    "```"
   ]
  },
  {
   "cell_type": "code",
   "execution_count": 151,
   "metadata": {
    "id": "CndS8TTNhG0F"
   },
   "outputs": [
    {
     "ename": "ValueError",
     "evalue": "setting an array element with a sequence.",
     "output_type": "error",
     "traceback": [
      "\u001b[1;31m---------------------------------------------------------------------------\u001b[0m",
      "\u001b[1;31mTypeError\u001b[0m                                 Traceback (most recent call last)",
      "\u001b[1;31mTypeError\u001b[0m: only length-1 arrays can be converted to Python scalars",
      "\nThe above exception was the direct cause of the following exception:\n",
      "\u001b[1;31mValueError\u001b[0m                                Traceback (most recent call last)",
      "Cell \u001b[1;32mIn[151], line 6\u001b[0m\n\u001b[0;32m      4\u001b[0m n\u001b[38;5;241m=\u001b[39mL\u001b[38;5;241m*\u001b[39m\u001b[38;5;241m*\u001b[39m\u001b[38;5;241m2\u001b[39m\n\u001b[0;32m      5\u001b[0m \u001b[38;5;28;01mfor\u001b[39;00m i \u001b[38;5;129;01min\u001b[39;00m \u001b[38;5;28mrange\u001b[39m(n):\n\u001b[1;32m----> 6\u001b[0m    \u001b[43marr\u001b[49m\u001b[43m[\u001b[49m\u001b[43mi\u001b[49m\u001b[43m]\u001b[49m\u001b[38;5;241m=\u001b[39m np\u001b[38;5;241m.\u001b[39marange(\u001b[38;5;241m1\u001b[39m,\u001b[38;5;241m4\u001b[39m)\n\u001b[0;32m      7\u001b[0m    \u001b[38;5;28mprint\u001b[39m(arr,end\u001b[38;5;241m=\u001b[39m\u001b[38;5;124m\"\u001b[39m\u001b[38;5;124m \u001b[39m\u001b[38;5;124m\"\u001b[39m)    \n",
      "\u001b[1;31mValueError\u001b[0m: setting an array element with a sequence."
     ]
    }
   ],
   "source": [
    "#code here\n",
    "arr=np.array([1,2,3])\n",
    "L=len(arr)\n",
    "n=L**2\n",
    "for i in range(n):\n",
    "   arr[i]= np.arange(1,4)\n",
    "   print(arr,end=\" \")    "
   ]
  },
  {
   "cell_type": "code",
   "execution_count": 152,
   "metadata": {},
   "outputs": [
    {
     "data": {
      "text/plain": [
       "array([1, 2, 3, 1, 2, 3, 1, 2, 3])"
      ]
     },
     "execution_count": 152,
     "metadata": {},
     "output_type": "execute_result"
    }
   ],
   "source": [
    "np.tile(arr,3)"
   ]
  },
  {
   "cell_type": "code",
   "execution_count": 153,
   "metadata": {},
   "outputs": [
    {
     "name": "stdout",
     "output_type": "stream",
     "text": [
      "[1 2 3 1 2 3 1 2 3]\n"
     ]
    }
   ],
   "source": [
    "import numpy as np\n",
    "\n",
    "arr = np.array([1, 2, 3])\n",
    "\n",
    "L = len(arr)\n",
    "n = L**2  # 3^2 = 9\n",
    "\n",
    "# नवीन रिकामी लिस्ट तयार करतो\n",
    "result = []\n",
    "\n",
    "for i in range(n):\n",
    "    result.append(arr[i % L])  # i % L चा उपयोग रिपीट करण्यासाठी होतो\n",
    "\n",
    "# NumPy ऍरेमध्ये कन्व्हर्ट करतो\n",
    "result = np.array(result)\n",
    "\n",
    "print(result)\n",
    "\n"
   ]
  },
  {
   "cell_type": "code",
   "execution_count": null,
   "metadata": {},
   "outputs": [],
   "source": []
  }
 ],
 "metadata": {
  "colab": {
   "provenance": []
  },
  "kernelspec": {
   "display_name": "Python 3 (ipykernel)",
   "language": "python",
   "name": "python3"
  },
  "language_info": {
   "codemirror_mode": {
    "name": "ipython",
    "version": 3
   },
   "file_extension": ".py",
   "mimetype": "text/x-python",
   "name": "python",
   "nbconvert_exporter": "python",
   "pygments_lexer": "ipython3",
   "version": "3.13.0"
  }
 },
 "nbformat": 4,
 "nbformat_minor": 4
}
