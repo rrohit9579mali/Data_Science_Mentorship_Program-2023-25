{
 "cells": [
  {
   "cell_type": "code",
   "execution_count": 4,
   "id": "89a8327d-1f0d-4724-b394-25c0e430d484",
   "metadata": {},
   "outputs": [
    {
     "name": "stdout",
     "output_type": "stream",
     "text": [
      "8\n",
      "40\n",
      "5\n"
     ]
    }
   ],
   "source": [
    "import numpy as np\n",
    "a=np.array([1,2,3,4,5])\n",
    "np.identity(5)\n",
    "np.ones(5)\n",
    "print(a.itemsize)\n",
    "print(a.nbytes)\n",
    "print(a.size)\n"
   ]
  },
  {
   "cell_type": "code",
   "execution_count": 5,
   "id": "a499f786-3ea4-47c5-972a-3a358528954a",
   "metadata": {},
   "outputs": [
    {
     "name": "stdout",
     "output_type": "stream",
     "text": [
      "[[1 2 3]\n",
      " [4 5 6]]\n",
      "3d array is :  [[[1 2 3]\n",
      "  [4 5 6]\n",
      "  [7 8 9]]]\n"
     ]
    }
   ],
   "source": [
    "#  2D & 3D numpy array \n",
    "D2=np.array([[1,2,3],[4,5,6]])\n",
    "print(D2)\n",
    "D3 =np.array([[[1,2,3],[4,5,6],[7,8,9]]])\n",
    "print(\"3d array is : \", D3)"
   ]
  },
  {
   "cell_type": "code",
   "execution_count": 6,
   "id": "ac966e2e-2bea-47e8-9ce8-3b6b118fb8ad",
   "metadata": {},
   "outputs": [
    {
     "data": {
      "text/plain": [
       "array(['1', '4', '5', '6'], dtype='<U1')"
      ]
     },
     "execution_count": 6,
     "metadata": {},
     "output_type": "execute_result"
    }
   ],
   "source": [
    "arr=np.array([1,4,5,6],dtype=str)\n",
    "arr"
   ]
  },
  {
   "cell_type": "code",
   "execution_count": 7,
   "id": "65949120-9f0b-440b-9d3d-e0f4486d92b3",
   "metadata": {},
   "outputs": [
    {
     "data": {
      "text/plain": [
       "array([[ 0,  1,  2],\n",
       "       [ 3,  4,  5],\n",
       "       [ 6,  7,  8],\n",
       "       [ 9, 10, 11]])"
      ]
     },
     "execution_count": 7,
     "metadata": {},
     "output_type": "execute_result"
    }
   ],
   "source": [
    "arr=np.arange(12).reshape(4,3)\n",
    "arr"
   ]
  },
  {
   "cell_type": "code",
   "execution_count": 8,
   "id": "7c3071ca-f656-4274-bc32-b744842c5779",
   "metadata": {},
   "outputs": [
    {
     "data": {
      "text/plain": [
       "array([[0.01839995, 0.62512182, 0.76749211, 0.62370967],\n",
       "       [0.22023626, 0.7914739 , 0.84050712, 0.32523827],\n",
       "       [0.1805845 , 0.47251097, 0.58114976, 0.96211326]])"
      ]
     },
     "execution_count": 8,
     "metadata": {},
     "output_type": "execute_result"
    }
   ],
   "source": [
    "np.ones((3,4))\n",
    "# np.random\n",
    "arr=np.random.random((3,4))\n",
    "arr"
   ]
  },
  {
   "cell_type": "code",
   "execution_count": 9,
   "id": "c2decea6-4e7a-4290-b3e7-2601a224cec5",
   "metadata": {},
   "outputs": [
    {
     "data": {
      "text/plain": [
       "(3, 4)"
      ]
     },
     "execution_count": 9,
     "metadata": {},
     "output_type": "execute_result"
    }
   ],
   "source": [
    "# \n",
    "arr.shape"
   ]
  },
  {
   "cell_type": "code",
   "execution_count": 10,
   "id": "985d38cb-473a-4be9-9568-e879ba8dd064",
   "metadata": {},
   "outputs": [
    {
     "name": "stdout",
     "output_type": "stream",
     "text": [
      "[[  0   1   4   9  16]\n",
      " [ 25  36  49  64  81]\n",
      " [100 121 144 169 196]\n",
      " [225 256 289 324 361]]\n",
      "[[ 0  2  4  6  8]\n",
      " [10 12 14 16 18]\n",
      " [20 22 24 26 28]\n",
      " [30 32 34 36 38]]\n"
     ]
    }
   ],
   "source": [
    "#  scler in python \n",
    "arr=np.arange(20).reshape(4,5)\n",
    "\n",
    "# scaler form use \n",
    "#  power od the number using scaler \n",
    "power=arr**2\n",
    "print(power)\n",
    "\n",
    "tb2=arr*2\n",
    "print(tb2)"
   ]
  },
  {
   "cell_type": "code",
   "execution_count": 11,
   "id": "1e4141bb-46a5-4cd0-874e-157077ebcddb",
   "metadata": {},
   "outputs": [
    {
     "data": {
      "text/plain": [
       "array([[1., 0., 0.],\n",
       "       [0., 1., 0.],\n",
       "       [0., 0., 1.]])"
      ]
     },
     "execution_count": 11,
     "metadata": {},
     "output_type": "execute_result"
    }
   ],
   "source": [
    "np.identity(3)"
   ]
  },
  {
   "cell_type": "code",
   "execution_count": 12,
   "id": "2568cb17-a475-4d3d-b10d-cc48e8a38eda",
   "metadata": {},
   "outputs": [
    {
     "name": "stdout",
     "output_type": "stream",
     "text": [
      "[[19 21 23 25]\n",
      " [27 29 31 33]\n",
      " [35 37 39 41]\n",
      " [43 45 47 49]\n",
      " [51 53 55 57]]\n"
     ]
    }
   ],
   "source": [
    "#  vectore form in  numpy \n",
    "a1=np.arange(20).reshape(5,4)\n",
    "a2=np.arange(19,39).reshape(5,4)\n",
    "a3=a1+a2\n",
    "print(a3)"
   ]
  },
  {
   "cell_type": "code",
   "execution_count": 13,
   "id": "7c195823-afa2-4b25-b41f-d629c6c6ebdf",
   "metadata": {},
   "outputs": [
    {
     "name": "stdout",
     "output_type": "stream",
     "text": [
      "19\n",
      "57\n",
      "760\n",
      "6287361309452331121\n"
     ]
    }
   ],
   "source": [
    "#  fn in numpy array \n",
    "a=np.min(a3)\n",
    "print(a)\n",
    "max=np.max(a3)\n",
    "print(max)\n",
    "sum=np.sum(a3)\n",
    "print(sum)\n",
    "product=np.prod(a3)\n",
    "print(product)"
   ]
  },
  {
   "cell_type": "code",
   "execution_count": 14,
   "id": "5258348e-4b5f-4b71-8ae3-8243f80e951b",
   "metadata": {},
   "outputs": [
    {
     "name": "stdout",
     "output_type": "stream",
     "text": [
      "[[ 0  1  2  3]\n",
      " [ 4  5  6  7]\n",
      " [ 8  9 10 11]\n",
      " [12 13 14 15]\n",
      " [16 17 18 19]]\n",
      "the sum of the colom is \n",
      "[40 45 50 55]\n"
     ]
    }
   ],
   "source": [
    "#  axis parameter are use for row and  operation axis=1 yani row and axis=0 yani clo vr opration honar \n",
    "#  calculate the sum of every colum \n",
    "am=np.arange(20).reshape(5,4)\n",
    "print(am)\n",
    "print(\"the sum of the colom is \")\n",
    "col_sum=np.sum(am,axis=0)\n",
    "print(col_sum)"
   ]
  },
  {
   "cell_type": "code",
   "execution_count": 15,
   "id": "a60f8fe8-4865-45b0-a8d9-bc27c674a4d2",
   "metadata": {},
   "outputs": [
    {
     "name": "stdout",
     "output_type": "stream",
     "text": [
      "[19 27 35 43 51]\n"
     ]
    }
   ],
   "source": [
    "row_min=np.min(a3,axis=1)\n",
    "print(row_min)"
   ]
  },
  {
   "cell_type": "code",
   "execution_count": 16,
   "id": "276ff150-803d-4056-aa9b-1b938ab57007",
   "metadata": {},
   "outputs": [
    {
     "name": "stdout",
     "output_type": "stream",
     "text": [
      "[35. 37. 39. 41.]\n"
     ]
    }
   ],
   "source": [
    "#  statistic fn in numpy\n",
    "#  mean/median / std(staderd daviationb) / var (variance )\n",
    "mean=np.mean(a3,axis=0)\n",
    "print(mean)"
   ]
  },
  {
   "cell_type": "code",
   "execution_count": 17,
   "id": "b3d00dbe-9d0e-4a33-bf5e-76cd69736e16",
   "metadata": {},
   "outputs": [
    {
     "name": "stdout",
     "output_type": "stream",
     "text": [
      "dot product pf the 2 \n"
     ]
    }
   ],
   "source": [
    "m1=np.arange(9).reshape(3,3)\n",
    "m2=np.arange(9,18).reshape(3,3)\n",
    "\n",
    "dot=np.dot(m1,m2)\n",
    "print(\"dot product pf the 2 \")"
   ]
  },
  {
   "cell_type": "code",
   "execution_count": 60,
   "id": "9b36e066-a41e-4da9-959a-7299ad7363da",
   "metadata": {},
   "outputs": [
    {
     "name": "stdout",
     "output_type": "stream",
     "text": [
      "[[0.5165892  0.09636003 0.08376195 0.24106269 0.84244091]\n",
      " [0.42604494 0.02661173 0.82227433 0.35478662 0.80570197]\n",
      " [0.70016044 0.69058135 0.05293815 0.38272155 0.12190283]\n",
      " [0.80083135 0.74643638 0.6014809  0.61977452 0.11025701]]\n"
     ]
    },
    {
     "data": {
      "text/plain": [
       "array([[ 79.,  47.,  61.,  17.,  82.],\n",
       "       [  4.,  69.,  97.,  33.,  88.],\n",
       "       [ 73.,  14.,  31., 100.,  28.],\n",
       "       [ 56.,  14.,   7.,  43.,  79.]])"
      ]
     },
     "execution_count": 60,
     "metadata": {},
     "output_type": "execute_result"
    }
   ],
   "source": [
    "arr1=np.arange(10).reshape(5,2)\n",
    "arr2=np.arange(10,20).reshape(5,2)\n",
    "a=np.random.random((4,5))\n",
    "print(a)\n",
    "#  to conver into interger by using floor \n",
    "np.floor(np.random.random((4,4))*100)\n",
    "\n",
    "#  convert in to  ceil\n",
    "b=np.arange(4,4)\n",
    "np.ceil(np.random.random((4,5))*100)\n"
   ]
  },
  {
   "cell_type": "code",
   "execution_count": 67,
   "id": "be8f75ce-9d7e-4538-aa88-7d6855747052",
   "metadata": {},
   "outputs": [
    {
     "name": "stdout",
     "output_type": "stream",
     "text": [
      "[[1 2 3]\n",
      " [4 5 6]\n",
      " [7 8 9]]\n",
      "5\n"
     ]
    }
   ],
   "source": [
    "#  indexing and sclicing in arr \n",
    "\n",
    "d2=np.array([[1,2,3],[4,5,6],[7,8,9]])\n",
    "print(d2)\n",
    "d2[-1] # in 2D array to  take a -1 in ind so give a last row in the arra\n",
    "\n",
    "idx5=d2[1,1]\n",
    "print(idx5)"
   ]
  },
  {
   "cell_type": "code",
   "execution_count": 80,
   "id": "616ae516-5480-424a-8620-8a86bb3d93f6",
   "metadata": {},
   "outputs": [
    {
     "name": "stdout",
     "output_type": "stream",
     "text": [
      "[[[ 1  2  3  4]\n",
      "  [ 5  6  7  8]\n",
      "  [ 9 10 11 12]]\n",
      "\n",
      " [[13 14 15 16]\n",
      "  [17 18 19 20]\n",
      "  [21 22 23 24]]]\n",
      "12\n",
      "23\n"
     ]
    }
   ],
   "source": [
    "d3=np.array([\n",
    "    [ [1, 2, 3, 4], [5, 6, 7, 8], [9, 10, 11, 12] ],\n",
    "    [ [13, 14, 15, 16], [17, 18, 19, 20], [21, 22, 23, 24] ]\n",
    "])\n",
    "print(d3)\n",
    "d3[-1]\n",
    "\n",
    "print(d3[0,2,3])\n",
    "\n",
    "print(d3[1,2,2])"
   ]
  },
  {
   "cell_type": "code",
   "execution_count": 87,
   "id": "80135977-4639-4c59-a226-2146e2f1e7da",
   "metadata": {},
   "outputs": [
    {
     "name": "stdout",
     "output_type": "stream",
     "text": [
      "[0 1 2 3 4 5 6 7 8 9]\n"
     ]
    },
    {
     "data": {
      "text/plain": [
       "array([9, 8, 7, 6, 5, 4, 3, 2, 1, 0])"
      ]
     },
     "execution_count": 87,
     "metadata": {},
     "output_type": "execute_result"
    }
   ],
   "source": [
    "#  sclising in array \n",
    "arr1=np.arange(10)\n",
    "print(arr1) \n",
    "#  to print only even number \n",
    "arr1[0::2]\n",
    "#  to print(odd number \n",
    "\n",
    "arr1[1::2]\n",
    "\n",
    "arr1[::-1]"
   ]
  },
  {
   "cell_type": "code",
   "execution_count": 99,
   "id": "e41dc43a-3f1b-4b84-9ce5-305ff34cd65d",
   "metadata": {},
   "outputs": [
    {
     "name": "stdout",
     "output_type": "stream",
     "text": [
      "[[1 2 3]\n",
      " [4 5 6]\n",
      " [7 8 9]]\n",
      "[3 6 9]\n"
     ]
    },
    {
     "data": {
      "text/plain": [
       "array([[7, 8, 9]])"
      ]
     },
     "execution_count": 99,
     "metadata": {},
     "output_type": "execute_result"
    }
   ],
   "source": [
    "#  get the element in 2d array \n",
    "print(d2)\n",
    "an=d2[:,2] # yani : mean all row's jya colom 3 madhe yata aahet \n",
    "print(an)\n",
    "\n",
    "#  print the middle row only \n",
    "d2[2:] # 2nd row : mean ti row madhe je pn column element yyeta aahet te all \n"
   ]
  },
  {
   "cell_type": "code",
   "execution_count": 162,
   "id": "35c0db04-59e1-4d44-b46f-5673bfe20e76",
   "metadata": {},
   "outputs": [
    {
     "name": "stdout",
     "output_type": "stream",
     "text": [
      "[[2 3]\n",
      " [5 6]\n",
      " [8 9]]\n"
     ]
    }
   ],
   "source": [
    "#  pribnt  5 6\n",
    "          #8 9\n",
    "\n",
    "A=d2[0:,1:3]\n",
    "print(A)"
   ]
  },
  {
   "cell_type": "code",
   "execution_count": 149,
   "id": "1c1d110a-bca2-42cf-9710-dbecd9cf6c6d",
   "metadata": {},
   "outputs": [
    {
     "name": "stdout",
     "output_type": "stream",
     "text": [
      "[[2]\n",
      " [8]]\n"
     ]
    }
   ],
   "source": [
    "#  1 3 \n",
    "#  7 9\n",
    "\n",
    "\n",
    "B=d2[::2,::2]\n",
    "print(B)"
   ]
  },
  {
   "cell_type": "code",
   "execution_count": 170,
   "id": "237d17e3-14c7-4151-b285-cd26b0d4f29b",
   "metadata": {},
   "outputs": [
    {
     "name": "stdout",
     "output_type": "stream",
     "text": [
      "[[1 2 3]\n",
      " [4 5 6]\n",
      " [7 8 9]]\n"
     ]
    },
    {
     "data": {
      "text/plain": [
       "array([4, 6])"
      ]
     },
     "execution_count": 170,
     "metadata": {},
     "output_type": "execute_result"
    }
   ],
   "source": [
    "print(d2)\n",
    "d2[1,::2]\n",
    "d2[1,::2]"
   ]
  },
  {
   "cell_type": "code",
   "execution_count": 186,
   "id": "1118e05d-12f7-4f36-a7a6-f38711ceafb2",
   "metadata": {},
   "outputs": [
    {
     "name": "stdout",
     "output_type": "stream",
     "text": [
      "[[1 2 3]\n",
      " [4 5 6]\n",
      " [7 8 9]]\n"
     ]
    },
    {
     "data": {
      "text/plain": [
       "array([[2, 3],\n",
       "       [5, 6]])"
      ]
     },
     "execution_count": 186,
     "metadata": {},
     "output_type": "execute_result"
    }
   ],
   "source": [
    "#   2 3\n",
    "#   5 6\n",
    "print(d2)\n",
    "d2[0:2:,1::]"
   ]
  },
  {
   "cell_type": "code",
   "execution_count": 203,
   "id": "a6cb184b-b954-4354-9300-9c572e0af97f",
   "metadata": {},
   "outputs": [
    {
     "data": {
      "text/plain": [
       "array([[3],\n",
       "       [6],\n",
       "       [9]])"
      ]
     },
     "execution_count": 203,
     "metadata": {},
     "output_type": "execute_result"
    }
   ],
   "source": [
    "d2[0:2,::2]\n",
    "d2[1:,::2]\n",
    "d2[0::,2:3:]"
   ]
  },
  {
   "cell_type": "code",
   "execution_count": 218,
   "id": "d70d59dd-69ac-43ab-a9de-afeb743f57a2",
   "metadata": {},
   "outputs": [
    {
     "name": "stdout",
     "output_type": "stream",
     "text": [
      "[[[ 0  1  2]\n",
      "  [ 3  4  5]\n",
      "  [ 6  7  8]]\n",
      "\n",
      " [[ 9 10 11]\n",
      "  [12 13 14]\n",
      "  [15 16 17]]\n",
      "\n",
      " [[18 19 20]\n",
      "  [21 22 23]\n",
      "  [24 25 26]]]\n",
      "[[12 13 14]]\n"
     ]
    },
    {
     "data": {
      "text/plain": [
       "array([24, 25, 26])"
      ]
     },
     "execution_count": 218,
     "metadata": {},
     "output_type": "execute_result"
    }
   ],
   "source": [
    "d3=np.arange(27).reshape(3,3,3)\n",
    "print(d3)\n",
    "d3[1] # find 2nd m \n",
    "\n",
    "print(d3[1,1::2]) # 12,13,14\n",
    "\n",
    "d3[2,2,0::] # 3nd m 2nd  row  print "
   ]
  },
  {
   "cell_type": "code",
   "execution_count": 229,
   "id": "f5de8b82-73e9-4dbf-afe4-67b9168fb0fd",
   "metadata": {},
   "outputs": [
    {
     "data": {
      "text/plain": [
       "array([[10],\n",
       "       [13],\n",
       "       [16]])"
      ]
     },
     "execution_count": 229,
     "metadata": {},
     "output_type": "execute_result"
    }
   ],
   "source": [
    "#  find the ocrner lement in matrix 2 \n",
    "\n",
    "d3[2,::2,::2]\n",
    "d3[1,0:,1::2]"
   ]
  },
  {
   "cell_type": "code",
   "execution_count": 232,
   "id": "c7ea07a8-9b62-4620-bdc4-cc6efdb5eadf",
   "metadata": {},
   "outputs": [
    {
     "data": {
      "text/plain": [
       "array([[[ 0,  1,  2],\n",
       "        [ 3,  4,  5],\n",
       "        [ 6,  7,  8]],\n",
       "\n",
       "       [[18, 19, 20],\n",
       "        [21, 22, 23],\n",
       "        [24, 25, 26]]])"
      ]
     },
     "execution_count": 232,
     "metadata": {},
     "output_type": "execute_result"
    }
   ],
   "source": [
    "#  1st matrix and 3nd matrix how to get \n",
    "d3[::2]"
   ]
  },
  {
   "cell_type": "code",
   "execution_count": 236,
   "id": "b8a195ad-82ea-4dfa-a3a2-5a0de64b0853",
   "metadata": {},
   "outputs": [
    {
     "data": {
      "text/plain": [
       "array([[3, 4, 5]])"
      ]
     },
     "execution_count": 236,
     "metadata": {},
     "output_type": "execute_result"
    }
   ],
   "source": [
    "#  print 1matrix 2 row  3,4,5\n",
    "d3[0,1::2]"
   ]
  },
  {
   "cell_type": "code",
   "execution_count": 249,
   "id": "30fe5864-248b-4441-8024-faf2195aa73f",
   "metadata": {},
   "outputs": [
    {
     "name": "stdout",
     "output_type": "stream",
     "text": [
      "[[[ 0  1  2]\n",
      "  [ 3  4  5]\n",
      "  [ 6  7  8]]\n",
      "\n",
      " [[ 9 10 11]\n",
      "  [12 13 14]\n",
      "  [15 16 17]]\n",
      "\n",
      " [[18 19 20]\n",
      "  [21 22 23]\n",
      "  [24 25 26]]]\n"
     ]
    },
    {
     "data": {
      "text/plain": [
       "array([[11],\n",
       "       [14],\n",
       "       [17]])"
      ]
     },
     "execution_count": 249,
     "metadata": {},
     "output_type": "execute_result"
    }
   ],
   "source": [
    "#  print the 2m 3rd column\n",
    "print(d3)\n",
    "d3[1,:,2::]"
   ]
  },
  {
   "cell_type": "code",
   "execution_count": 251,
   "id": "59389fe3-4ac1-4cbb-bb6e-25d0a596eb11",
   "metadata": {},
   "outputs": [
    {
     "data": {
      "text/plain": [
       "array([[22, 23],\n",
       "       [25, 26]])"
      ]
     },
     "execution_count": 251,
     "metadata": {},
     "output_type": "execute_result"
    }
   ],
   "source": [
    "d3[2,1:,1:]"
   ]
  },
  {
   "cell_type": "code",
   "execution_count": 287,
   "id": "50ad72d0-7b06-4f9e-aaf2-09809b87b743",
   "metadata": {},
   "outputs": [
    {
     "data": {
      "text/plain": [
       "array([[ 0,  2],\n",
       "       [18, 20]])"
      ]
     },
     "execution_count": 287,
     "metadata": {},
     "output_type": "execute_result"
    }
   ],
   "source": [
    "d3[::2,0,::2]"
   ]
  },
  {
   "cell_type": "code",
   "execution_count": 293,
   "id": "4937f621-d77c-4d89-899e-94c1d21df140",
   "metadata": {},
   "outputs": [
    {
     "name": "stdout",
     "output_type": "stream",
     "text": [
      "[[0 1 2]\n",
      " [3 4 5]\n",
      " [6 7 8]] 1  -> row \n",
      "[[ 9 10 11]\n",
      " [12 13 14]\n",
      " [15 16 17]] 2  -> row \n",
      "[[18 19 20]\n",
      " [21 22 23]\n",
      " [24 25 26]] 3  -> row \n"
     ]
    }
   ],
   "source": [
    "#  fool apply on numpyarr\n",
    "c=0\n",
    "for i in d3:\n",
    "    c+=1\n",
    "    print(i,c,\" -> row \")\n"
   ]
  },
  {
   "cell_type": "code",
   "execution_count": 306,
   "id": "58e05551-7047-424f-8d89-1b135876da00",
   "metadata": {},
   "outputs": [
    {
     "name": "stdout",
     "output_type": "stream",
     "text": [
      "[[0 1 2]\n",
      " [3 4 5]\n",
      " [6 7 8]] row  c-> 1 a ->  2\n",
      "[[ 9 10 11]\n",
      " [12 13 14]\n",
      " [15 16 17]] row  c-> 2 a ->  2\n",
      "[[18 19 20]\n",
      " [21 22 23]\n",
      " [24 25 26]] row  c-> 3 a ->  2\n",
      "[[0 1 2]\n",
      " [3 4 5]\n",
      " [6 7 8]] row  c-> 1 a ->  3\n",
      "[[ 9 10 11]\n",
      " [12 13 14]\n",
      " [15 16 17]] row  c-> 2 a ->  3\n",
      "[[18 19 20]\n",
      " [21 22 23]\n",
      " [24 25 26]] row  c-> 3 a ->  3\n",
      "[[0 1 2]\n",
      " [3 4 5]\n",
      " [6 7 8]] row  c-> 1 a ->  4\n",
      "[[ 9 10 11]\n",
      " [12 13 14]\n",
      " [15 16 17]] row  c-> 2 a ->  4\n",
      "[[18 19 20]\n",
      " [21 22 23]\n",
      " [24 25 26]] row  c-> 3 a ->  4\n"
     ]
    }
   ],
   "source": [
    "\n",
    "#  firn the sub row also \n",
    "c=0\n",
    "a=1\n",
    "for i in d3:\n",
    "    a+=1\n",
    "    c=0\n",
    "    for j in d3:\n",
    "        c+=1\n",
    "        print(j,\"row \",\"c->\",c,\"a -> \",a)"
   ]
  },
  {
   "cell_type": "code",
   "execution_count": 310,
   "id": "d67273ec-4655-435f-854f-dadc5035032b",
   "metadata": {},
   "outputs": [
    {
     "name": "stdout",
     "output_type": "stream",
     "text": [
      "0 1 2 \n",
      "3 4 5 \n",
      "6 7 8 \n",
      "\n",
      "9 10 11 \n",
      "12 13 14 \n",
      "15 16 17 \n",
      "\n",
      "18 19 20 \n",
      "21 22 23 \n",
      "24 25 26 \n",
      "\n"
     ]
    }
   ],
   "source": [
    "# Printing 3D array elements\n",
    "for i in range(len(d3)):  # Iterate over depth\n",
    "    for j in range(len(d3[i])):  # Iterate over rows\n",
    "        for k in range(len(d3[i][j])):  # Iterate over columns\n",
    "            print(d3[i][j][k], end=\" \")  # Print elements\n",
    "        print()  # New line for clarity\n",
    "    print()  # Extra line between depth levels\n"
   ]
  },
  {
   "cell_type": "code",
   "execution_count": 319,
   "id": "628d51a4-5610-4aa0-a43b-3757054be772",
   "metadata": {},
   "outputs": [
    {
     "name": "stdout",
     "output_type": "stream",
     "text": [
      "0 1 2 3 4 5 6 7 8 9 10 11 12 13 14 15 16 17 18 19 20 21 22 23 24 25 26 "
     ]
    }
   ],
   "source": [
    "# using a fn also print the 3d array \n",
    "for i in np.nditer(d3):\n",
    "    print(i,end=\" \")\n",
    "     "
   ]
  },
  {
   "cell_type": "code",
   "execution_count": 323,
   "id": "c4485c98-f756-4b5c-875e-a5bc119b0bb7",
   "metadata": {},
   "outputs": [
    {
     "name": "stdout",
     "output_type": "stream",
     "text": [
      "[[[ 0  1  2]\n",
      "  [ 3  4  5]\n",
      "  [ 6  7  8]]\n",
      "\n",
      " [[ 9 10 11]\n",
      "  [12 13 14]\n",
      "  [15 16 17]]\n",
      "\n",
      " [[18 19 20]\n",
      "  [21 22 23]\n",
      "  [24 25 26]]]\n",
      "the transpose of the d3 matrix \n",
      "[[[ 0  9 18]\n",
      "  [ 3 12 21]\n",
      "  [ 6 15 24]]\n",
      "\n",
      " [[ 1 10 19]\n",
      "  [ 4 13 22]\n",
      "  [ 7 16 25]]\n",
      "\n",
      " [[ 2 11 20]\n",
      "  [ 5 14 23]\n",
      "  [ 8 17 26]]]\n"
     ]
    }
   ],
   "source": [
    "#  transpose of the matrix\n",
    "print(d3)\n",
    "print(\"the transpose of the d3 matrix \")\n",
    "a=np.transpose(d3) \n",
    "print(a)"
   ]
  },
  {
   "cell_type": "code",
   "execution_count": 329,
   "id": "a4e00aea-6c2f-4d99-9bdd-a9caad47ef3d",
   "metadata": {},
   "outputs": [
    {
     "name": "stdout",
     "output_type": "stream",
     "text": [
      "[[ 0  1  2]\n",
      " [ 3  4  5]\n",
      " [ 6  7  8]\n",
      " [ 9 10 11]]\n",
      "\n",
      "transpose of the a is \n",
      " \n",
      "[[ 0  3  6  9]\n",
      " [ 1  4  7 10]\n",
      " [ 2  5  8 11]]\n"
     ]
    }
   ],
   "source": [
    "a=np.arange(12).reshape(4,3)\n",
    "print(a)\n",
    "print(\"\\ntranspose of the a is \\n \")\n",
    "b=np.transpose(a)\n",
    "print(b)"
   ]
  },
  {
   "cell_type": "code",
   "execution_count": 339,
   "id": "d8543dd5-b44c-4ad5-8950-4d3190ecd70f",
   "metadata": {},
   "outputs": [
    {
     "name": "stdout",
     "output_type": "stream",
     "text": [
      "[[ 0  4  8 12 16]\n",
      " [ 1  5  9 13 17]\n",
      " [ 2  6 10 14 18]\n",
      " [ 3  7 11 15 19]]\n",
      "[[ 0  3  6  9]\n",
      " [ 1  4  7 10]\n",
      " [ 2  5  8 11]]\n"
     ]
    }
   ],
   "source": [
    "#  another syntax for transpose matrix\n",
    "t1=a1.T \n",
    "a2=np.arange(12).reshape(4,3)\n",
    "t2=a2.T\n",
    "print(t1)\n",
    "print(t2)"
   ]
  },
  {
   "cell_type": "markdown",
   "id": "7787d213-dad9-4c4a-bcb7-03fb0314665c",
   "metadata": {},
   "source": [
    "# ravel \n",
    "nD -> to 1D  "
   ]
  },
  {
   "cell_type": "code",
   "execution_count": 340,
   "id": "94771c6e-bb08-4445-aeb3-ff3b7f12f89b",
   "metadata": {},
   "outputs": [
    {
     "data": {
      "text/plain": [
       "array([ 0,  1,  2,  3,  4,  5,  6,  7,  8,  9, 10, 11])"
      ]
     },
     "execution_count": 340,
     "metadata": {},
     "output_type": "execute_result"
    }
   ],
   "source": [
    "#  ravel fn in numpy array \n",
    "#  the use of the ravel fn in the np  array  if to cponvert the any type of array in 1d array \n",
    "a2.ravel()\n"
   ]
  },
  {
   "cell_type": "code",
   "execution_count": 355,
   "id": "4b7e0696-c030-4173-923a-5fe86a00715c",
   "metadata": {},
   "outputs": [
    {
     "name": "stdout",
     "output_type": "stream",
     "text": [
      "a1 arr is : \n",
      " [[1 2]\n",
      " [3 4]]\n",
      "a2 arr is : \n",
      " [[5 6]\n",
      " [7 8]]\n",
      "\n",
      " [[1 2 5 6]\n",
      " [3 4 7 8]]\n",
      "\n",
      " [[1 2]\n",
      " [3 4]\n",
      " [5 6]\n",
      " [7 8]]\n"
     ]
    }
   ],
   "source": [
    "# Stacking in arrays \n",
    "#  type's \n",
    "#  horizental  jr a2 a1 madhe add hot asel tr a1 madhe number of coloum ^ increase honar \n",
    "\n",
    "a1 = np.array([[1, 2], [3, 4]])  # (2x2)\n",
    "a2 = np.array([[5, 6], [7, 8]])  # (2x2)\n",
    "print(\"a1 arr is : \\n\",a1)\n",
    "print(\"a2 arr is : \\n\",a2)\n",
    "# Horizontal stacking (columns वाढतील)\n",
    "h = np.hstack((a1, a2))\n",
    "print(\"\\n\",h)\n",
    "\n",
    "# #  vertical \n",
    "v=np.vstack((a1,a2))\n",
    "print(\"\\n\",v)"
   ]
  },
  {
   "cell_type": "code",
   "execution_count": 369,
   "id": "83a4b396-0b20-4d22-807a-93b780c638b8",
   "metadata": {},
   "outputs": [
    {
     "name": "stdout",
     "output_type": "stream",
     "text": [
      "Original Array:\n",
      " [[ 0  1  2]\n",
      " [ 3  4  5]\n",
      " [ 6  7  8]\n",
      " [ 9 10 11]]\n",
      "\n",
      "Splitted Arrays:\n",
      "[[0]\n",
      " [3]\n",
      " [6]\n",
      " [9]]\n",
      "[[ 1]\n",
      " [ 4]\n",
      " [ 7]\n",
      " [10]]\n",
      "[[ 2]\n",
      " [ 5]\n",
      " [ 8]\n",
      " [11]]\n"
     ]
    }
   ],
   "source": [
    "#  spliting in np \n",
    "# he just ap[osite aahe stack chya mean stack jodaycha kam karto and he dodaych kam karto   \n",
    "#  jr horihental todal tr matrix (a1,2) 2 ,2 colum reprate honar \n",
    "# eg\n",
    "\n",
    "# Creating a 3x3 matrix\n",
    "a1 = np.arange(12).reshape(4, 3)\n",
    "print(\"Original Array:\\n\", a1)\n",
    "\n",
    "# Horizontally splitting into 3 equal parts (each 3x1)\n",
    "r = np.hsplit(a1,3)\n",
    "print(\"\\nSplitted Arrays:\")\n",
    "for arr in r:\n",
    "    print(arr)"
   ]
  },
  {
   "cell_type": "code",
   "execution_count": 366,
   "id": "ba0400f7-7517-4d70-a37c-8f3978aee12a",
   "metadata": {},
   "outputs": [
    {
     "name": "stdout",
     "output_type": "stream",
     "text": [
      "Original Array:\n",
      " [[ 0  1  2]\n",
      " [ 3  4  5]\n",
      " [ 6  7  8]\n",
      " [ 9 10 11]]\n",
      "\n",
      "Vertically Splitted Arrays:\n",
      "[[0 1 2]\n",
      " [3 4 5]]\n",
      "[[ 6  7  8]\n",
      " [ 9 10 11]]\n"
     ]
    }
   ],
   "source": [
    "# 3x3 matrix tayar karat ahe\n",
    "a1 = np.arange(12).reshape(4, 3)\n",
    "print(\"Original Array:\\n\", a1)\n",
    "\n",
    "# Matrix cha 3 vertical parts madhe split karto (pratyek 1 row asel)\n",
    "r = np.vsplit(a1, 2)\n",
    "\n",
    "print(\"\\nVertically Splitted Arrays:\")\n",
    "for arr in r:\n",
    "    print(arr)"
   ]
  },
  {
   "cell_type": "code",
   "execution_count": null,
   "id": "cb706fd5-5f8d-4879-ba99-9a5fc1049cae",
   "metadata": {},
   "outputs": [],
   "source": []
  }
 ],
 "metadata": {
  "kernelspec": {
   "display_name": "Python 3 (ipykernel)",
   "language": "python",
   "name": "python3"
  },
  "language_info": {
   "codemirror_mode": {
    "name": "ipython",
    "version": 3
   },
   "file_extension": ".py",
   "mimetype": "text/x-python",
   "name": "python",
   "nbconvert_exporter": "python",
   "pygments_lexer": "ipython3",
   "version": "3.13.0"
  }
 },
 "nbformat": 4,
 "nbformat_minor": 5
}
