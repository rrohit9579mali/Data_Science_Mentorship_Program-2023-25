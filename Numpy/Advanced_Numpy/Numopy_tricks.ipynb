{
 "cells": [
  {
   "cell_type": "markdown",
   "id": "b8bf2d61-0c2a-40e2-a3cf-ec24d0bc98d1",
   "metadata": {},
   "source": [
    "#  Tricky function in array using  np build the thous fn \n"
   ]
  },
  {
   "cell_type": "code",
   "execution_count": 2,
   "id": "970e59ad-bbec-4bbd-9a58-568c828cb3a4",
   "metadata": {},
   "outputs": [],
   "source": [
    "import numpy as np\n",
    "\n"
   ]
  },
  {
   "cell_type": "code",
   "execution_count": 7,
   "id": "0ae02f1d-292a-40d2-a4b8-ba2d242e852e",
   "metadata": {},
   "outputs": [
    {
     "name": "stdout",
     "output_type": "stream",
     "text": [
      "[[28 46 27]\n",
      " [24 18 46]\n",
      " [33  5 27]\n",
      " [21 45  2]\n",
      " [36  7 17]]\n"
     ]
    },
    {
     "data": {
      "text/plain": [
       "array([[27, 28, 46],\n",
       "       [18, 24, 46],\n",
       "       [ 5, 27, 33],\n",
       "       [ 2, 21, 45],\n",
       "       [ 7, 17, 36]], dtype=int32)"
      ]
     },
     "execution_count": 7,
     "metadata": {},
     "output_type": "execute_result"
    }
   ],
   "source": [
    "#  sort fn\n",
    "\n",
    "arr=np.random.randint(1,50,15).reshape(5,3)\n",
    "print(arr)\n",
    "np.sort(arr,axis=1) # 0 is the row and 1 is the clm "
   ]
  },
  {
   "cell_type": "code",
   "execution_count": 8,
   "id": "99daa996-29dd-4de3-a9d1-decb2796cced",
   "metadata": {},
   "outputs": [
    {
     "name": "stdout",
     "output_type": "stream",
     "text": [
      "15\n",
      "[22  4 31 44 23 17 17 41 48 24 19 21 13 48  7 27]\n",
      "16\n"
     ]
    }
   ],
   "source": [
    "# append fn\n",
    "arr=np.random.randint(1,50,15).reshape(5,3)\n",
    "print(np.size(arr))\n",
    "m=np.append(arr,27)\n",
    "print(m)\n",
    "print(np.size(m))\n"
   ]
  },
  {
   "cell_type": "code",
   "execution_count": 10,
   "id": "1b564e30-99fd-46bc-bc85-b4155783639f",
   "metadata": {},
   "outputs": [
    {
     "data": {
      "text/plain": [
       "array([[ 0,  1,  2,  0,  1,  2],\n",
       "       [ 3,  4,  5,  3,  4,  5],\n",
       "       [ 6,  7,  8,  6,  7,  8],\n",
       "       [ 9, 10, 11,  9, 10, 11]])"
      ]
     },
     "execution_count": 10,
     "metadata": {},
     "output_type": "execute_result"
    }
   ],
   "source": [
    "# concatenate the 2 or more arrays \n",
    "a=np.arange(12).reshape(4,3)\n",
    "b=np.arange(12).reshape(4,3) \n",
    " \n",
    "np.concatenate((a,b),axis=1)"
   ]
  },
  {
   "cell_type": "code",
   "execution_count": 11,
   "id": "4106bef2-e176-410c-b582-083c678889e9",
   "metadata": {},
   "outputs": [
    {
     "data": {
      "text/plain": [
       "array([[ 0,  1,  2],\n",
       "       [ 3,  4,  5],\n",
       "       [ 6,  7,  8],\n",
       "       [ 9, 10, 11],\n",
       "       [ 0,  1,  2],\n",
       "       [ 3,  4,  5],\n",
       "       [ 6,  7,  8],\n",
       "       [ 9, 10, 11]])"
      ]
     },
     "execution_count": 11,
     "metadata": {},
     "output_type": "execute_result"
    }
   ],
   "source": [
    "np.concatenate((a,b),axis=0)"
   ]
  },
  {
   "cell_type": "markdown",
   "id": "9daa5231-9840-4f02-b3b3-b607ff0e5f17",
   "metadata": {},
   "source": [
    "# uniqu element in array \n"
   ]
  },
  {
   "cell_type": "code",
   "execution_count": 14,
   "id": "21a121e5-7ff7-4de1-b016-54392dd084e6",
   "metadata": {},
   "outputs": [
    {
     "data": {
      "text/plain": [
       "array([ 1,  2,  3,  4,  5,  6,  8, 12, 88])"
      ]
     },
     "execution_count": 14,
     "metadata": {},
     "output_type": "execute_result"
    }
   ],
   "source": [
    "arr=np.array([1,1,1,2,2,4,1,2,3,5,4,6,8,6,2,88,6,2,5,8,12,3,8])\n",
    "np.unique(arr)"
   ]
  },
  {
   "cell_type": "code",
   "execution_count": 16,
   "id": "bcc1eb6e-2be5-4b9a-8a6c-76faa97ca836",
   "metadata": {},
   "outputs": [
    {
     "data": {
      "text/plain": [
       "array([[ 1,  1,  1,  2,  2,  4,  1,  2,  3,  5,  4,  6,  8,  6,  2, 88,\n",
       "         6,  2,  5,  8, 12,  3,  8]])"
      ]
     },
     "execution_count": 16,
     "metadata": {},
     "output_type": "execute_result"
    }
   ],
   "source": [
    "#  expand_dims\n",
    "#  1d la 2d and 2d la 3d madhe convert kareaych kam kartro \n",
    "np.expand_dims(arr,axis=0) # row or colum both vr karta yenare op\n"
   ]
  },
  {
   "cell_type": "code",
   "execution_count": 17,
   "id": "1ec6d07c-e5f5-49c4-96d1-153121fa79c4",
   "metadata": {},
   "outputs": [
    {
     "data": {
      "text/plain": [
       "array([ 1,  1,  1,  2,  2,  4,  1,  2,  3,  5,  4,  6,  8,  6,  2,  0,  6,\n",
       "        2,  5,  8, 12,  3,  8])"
      ]
     },
     "execution_count": 17,
     "metadata": {},
     "output_type": "execute_result"
    }
   ],
   "source": [
    "#  whare fn to filter the data \n",
    "# np.where(condition ,ture,false)\n",
    "np.where(arr>50,0,arr) "
   ]
  },
  {
   "cell_type": "code",
   "execution_count": 23,
   "id": "3000b37d-f9ec-4238-a172-e45bd3a65f90",
   "metadata": {},
   "outputs": [
    {
     "name": "stdout",
     "output_type": "stream",
     "text": [
      "[ 1  1  1  2  2  4  1  2  3  5  4  6  8  6  2 88  6  2  5  8 12  3  8]\n",
      "88\n"
     ]
    }
   ],
   "source": [
    "print(arr)\n",
    "a=np.max(arr)\n",
    "print(a)"
   ]
  },
  {
   "cell_type": "code",
   "execution_count": 25,
   "id": "787ef9a8-47fa-4e6e-9032-7ccaeb03abbb",
   "metadata": {},
   "outputs": [
    {
     "data": {
      "text/plain": [
       "array([  1,   2,   3,   5,   7,  11,  12,  14,  17,  22,  26,  32,  40,\n",
       "        46,  48, 136, 142, 144, 149, 157, 169, 172, 180])"
      ]
     },
     "execution_count": 25,
     "metadata": {},
     "output_type": "execute_result"
    }
   ],
   "source": [
    "#  prefix sum of the elemnt in array \n",
    "\n",
    "np.cumsum(arr)"
   ]
  },
  {
   "cell_type": "code",
   "execution_count": 39,
   "id": "9a101073-25f0-402b-8cd0-5479323da08e",
   "metadata": {},
   "outputs": [
    {
     "name": "stdout",
     "output_type": "stream",
     "text": [
      "[ 1  2  3  4  5  6  7  8  9 10 11 12 13 14 15 16 17 18 19 20 21 22 23 24\n",
      " 25 26 27 28 29 30 31 32 33 34 35 36 37 38 39 40 41 42 43 44 45 46 47 48\n",
      " 49]\n",
      "[                   1                    2                    6\n",
      "                   24                  120                  720\n",
      "                 5040                40320               362880\n",
      "              3628800             39916800            479001600\n",
      "           6227020800          87178291200        1307674368000\n",
      "       20922789888000      355687428096000     6402373705728000\n",
      "   121645100408832000  2432902008176640000 -4249290049419214848\n",
      " -1250660718674968576  8128291617894825984 -7835185981329244160\n",
      "  7034535277573963776 -1569523520172457984 -5483646897237262336\n",
      " -5968160532966932480 -7055958792655077376 -8764578968847253504\n",
      "  4999213071378415616 -6045878379276664832  3400198294675128320\n",
      "  4926277576697053184  6399018521010896896  9003737871877668864\n",
      "  1096907932701818880  4789013295250014208  2304077777655037952\n",
      "   -70609262346240000 -2894979756195840000  7538058755741581312\n",
      " -7904866829883932672  2673996885588443136 -8797348664486920192\n",
      "  1150331055211806720 -1274672626173739008 -5844053835210817536\n",
      "  8789267254022766592]\n"
     ]
    }
   ],
   "source": [
    "#  cumprod -> cumulated product yani hr ek number uske prefix array  ka product \n",
    "arr=np.arange(1,50)\n",
    "print(arr)\n",
    "product_arr=np.cumprod(arr)\n",
    "print(product_arr)"
   ]
  },
  {
   "cell_type": "code",
   "execution_count": 37,
   "id": "3a5cc06c-0d31-4c79-b94c-d3c09dfe880b",
   "metadata": {},
   "outputs": [
    {
     "name": "stdout",
     "output_type": "stream",
     "text": [
      "5.0\n"
     ]
    }
   ],
   "source": [
    "# percentile mean yat jo  num max to 100% rahanar and jo  min to 0% percent \n",
    "pre=np.percentile(arr,100)\n",
    "print(pre)"
   ]
  },
  {
   "cell_type": "code",
   "execution_count": 41,
   "id": "ebeea633-d3ce-40ec-b3f4-b4ae642b2dc9",
   "metadata": {},
   "outputs": [
    {
     "data": {
      "text/plain": [
       "array([ 1,  2,  3,  4,  5,  6,  7,  8,  9, 10, 11, 12, 13, 14, 15, 16, 17,\n",
       "       18, 19, 20, 21, 22, 23, 24, 25, 26, 27, 28, 29, 30, 31, 32, 33, 34,\n",
       "       35, 36, 37, 38, 39, 40, 41, 42, 43, 44, 45, 46, 47, 48, 49])"
      ]
     },
     "execution_count": 41,
     "metadata": {},
     "output_type": "execute_result"
    }
   ],
   "source": [
    "arr"
   ]
  },
  {
   "cell_type": "code",
   "execution_count": 45,
   "id": "98688805-6610-44ec-8082-54da854291a0",
   "metadata": {},
   "outputs": [
    {
     "name": "stdout",
     "output_type": "stream",
     "text": [
      "(array([49,  0]), array([  0,  50, 100]))\n"
     ]
    }
   ],
   "source": [
    "#  histogram fn \n",
    "# he aapan arr madhe sodu ki ya range madhe kiti element aahe in aaray  \n",
    "\n",
    "total=np.histogram(arr,bins=[0,50,100]) # 0 to 50 madhe 49 element aahet but tyat 50 bovet up to 100 0 eleement aahet \n",
    "\n",
    "print(total)"
   ]
  },
  {
   "cell_type": "code",
   "execution_count": 46,
   "id": "8226e30a-795e-4cff-aa75-b42922147a67",
   "metadata": {},
   "outputs": [
    {
     "data": {
      "text/plain": [
       "array([False, False, False, False, False, False, False, False, False,\n",
       "       False, False, False, False, False, False, False, False, False,\n",
       "       False, False, False, False, False, False,  True, False, False,\n",
       "       False, False, False, False, False, False, False, False, False,\n",
       "       False, False, False, False, False, False, False, False, False,\n",
       "       False, False, False, False])"
      ]
     },
     "execution_count": 46,
     "metadata": {},
     "output_type": "execute_result"
    }
   ],
   "source": [
    "#  isin he multiple items la search karnya sathi use kel jt \n",
    "# eg arrya madhe 25, 99,55,89 he element aahe ki nahi he check karu \n",
    "a=[25, 99,55,89] # only 25 sapdla  but je je sapdle asyte to data aaplya la true milala asta \n",
    "np.isin(arr,a)"
   ]
  },
  {
   "cell_type": "code",
   "execution_count": 50,
   "id": "bd79e200-0ed6-457b-bea0-957c4bf0224e",
   "metadata": {},
   "outputs": [
    {
     "data": {
      "text/plain": [
       "array([ 10000,      2,     55,      4,      5, 365246,      7,      8,\n",
       "            9,     10,     11,     12,     13,     14,     15,     16,\n",
       "           17,     18,     19,     20,     21,     22,     23,     24,\n",
       "           25,     26,     27,     28,     29,     30,     31,     32,\n",
       "           33,     34,     35,     36,     37,     38,     39,     40,\n",
       "           41,     42,     43,     44,     45,     46,     47,     48,\n",
       "           49])"
      ]
     },
     "execution_count": 50,
     "metadata": {},
     "output_type": "execute_result"
    }
   ],
   "source": [
    "#  put fn are use to change the multple item value in array \n",
    "# eg put(arr,provide ind number in array form , jya valvue takaych aahe tya provide karne]) \n",
    "np.put(arr,[0,2,5],[10000,55,365246])\n",
    "arr"
   ]
  },
  {
   "cell_type": "code",
   "execution_count": 54,
   "id": "cc98cba1-052c-41b6-88c4-506d32305d4f",
   "metadata": {},
   "outputs": [
    {
     "name": "stdout",
     "output_type": "stream",
     "text": [
      "[     2      4 365246      7      8      9     10     11     12     13\n",
      "     14     15     16     17     18     19     20     21     22     23\n",
      "     24     25     26     27     28     29     30     31     32     33\n",
      "     34     35     36     37     38     39     40     41     42     43\n",
      "     44     45     46     47     48     49]\n"
     ]
    }
   ],
   "source": [
    "#  delete fn provide array and it's index\n",
    "arr\n",
    "print(np.delete(arr,[0,2,4])) # 0 ,0,4 ya index che items ddlet zale "
   ]
  },
  {
   "cell_type": "code",
   "execution_count": null,
   "id": "d1462aa7-a611-4f5b-b97c-3bedbad5a226",
   "metadata": {},
   "outputs": [],
   "source": []
  }
 ],
 "metadata": {
  "kernelspec": {
   "display_name": "Python 3 (ipykernel)",
   "language": "python",
   "name": "python3"
  },
  "language_info": {
   "codemirror_mode": {
    "name": "ipython",
    "version": 3
   },
   "file_extension": ".py",
   "mimetype": "text/x-python",
   "name": "python",
   "nbconvert_exporter": "python",
   "pygments_lexer": "ipython3",
   "version": "3.13.0"
  }
 },
 "nbformat": 4,
 "nbformat_minor": 5
}
