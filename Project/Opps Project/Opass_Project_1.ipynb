{
 "cells": [
  {
   "cell_type": "code",
   "execution_count": 25,
   "id": "6251775b-adfe-43aa-b093-fc0653f9380b",
   "metadata": {},
   "outputs": [
    {
     "name": "stdout",
     "output_type": "stream",
     "text": [
      "Requirement already satisfied: nlpcloud in c:\\users\\rm948\\appdata\\local\\programs\\python\\python313\\lib\\site-packages (1.1.47)\n",
      "Requirement already satisfied: requests in c:\\users\\rm948\\appdata\\local\\programs\\python\\python313\\lib\\site-packages (from nlpcloud) (2.32.3)\n",
      "Requirement already satisfied: charset-normalizer<4,>=2 in c:\\users\\rm948\\appdata\\local\\programs\\python\\python313\\lib\\site-packages (from requests->nlpcloud) (3.4.0)\n",
      "Requirement already satisfied: idna<4,>=2.5 in c:\\users\\rm948\\appdata\\local\\programs\\python\\python313\\lib\\site-packages (from requests->nlpcloud) (3.10)\n",
      "Requirement already satisfied: urllib3<3,>=1.21.1 in c:\\users\\rm948\\appdata\\local\\programs\\python\\python313\\lib\\site-packages (from requests->nlpcloud) (2.2.3)\n",
      "Requirement already satisfied: certifi>=2017.4.17 in c:\\users\\rm948\\appdata\\local\\programs\\python\\python313\\lib\\site-packages (from requests->nlpcloud) (2024.8.30)\n"
     ]
    },
    {
     "name": "stderr",
     "output_type": "stream",
     "text": [
      "\n",
      "[notice] A new release of pip is available: 24.2 -> 25.0.1\n",
      "[notice] To update, run: python.exe -m pip install --upgrade pip\n"
     ]
    }
   ],
   "source": [
    "!pip install nlpcloud\n",
    "# https://nlpcloud.com/home/playground/language-detection"
   ]
  },
  {
   "cell_type": "code",
   "execution_count": 3,
   "id": "990cbab0-f225-4752-ae1c-c371d6f2862e",
   "metadata": {},
   "outputs": [],
   "source": [
    "import nlpcloud\n",
    "\n",
    "class NLPAPP:\n",
    "    def __init__(self):\n",
    "        self.__DB = {}\n",
    "        self.__first_menu()\n",
    "\n",
    "    def __first_menu(self):\n",
    "        first_input = input(\"\"\"\n",
    "        Hi! how would you like to proceed?\n",
    "        1. Not a member? Register\n",
    "        2. Already a member? Login\n",
    "        3. Galti se aa gaye? Exit\n",
    "        \"\"\")\n",
    "        if first_input == '1':\n",
    "            self.__register()\n",
    "        elif first_input == '2':\n",
    "            self.__login()\n",
    "        else:\n",
    "            exit()\n",
    "\n",
    "    def __register(self):\n",
    "        name = input(\"Enter the name: \")\n",
    "        email = input(\"Enter the email: \")\n",
    "        password = input(\"Enter the password: \")\n",
    "\n",
    "        if email in self.__DB:\n",
    "            print(\"Email already used.\")\n",
    "            self.__login()\n",
    "        else:\n",
    "            self.__DB[email] = [name, password]\n",
    "            print(\"User registered successfully.\")\n",
    "            self.__login()\n",
    "\n",
    "    def __login(self):\n",
    "        email = input(\"Enter the email: \")\n",
    "        password = input(\"Enter the password: \")\n",
    "\n",
    "        if email in self.__DB and self.__DB[email][1] == password:\n",
    "            print(\"Login successfully!\")\n",
    "            self.__secound_menu()\n",
    "        else:\n",
    "            print(\"User not registered or incorrect credentials.\")\n",
    "            self.__first_menu()\n",
    "\n",
    "    def __secound_menu(self):\n",
    "        user_input = input(\"\"\"\n",
    "        Hello! \n",
    "        1. NER [name entity recognition]\n",
    "        2. Language detection\n",
    "        3. Systematic analysis \n",
    "        \"\"\") \n",
    "        if user_input == '1':\n",
    "            self.__NER()\n",
    "        elif user_input == '2':\n",
    "            self.__language_detection()\n",
    "        elif user_input == '3':\n",
    "            self.__systematic_analysis()\n",
    "\n",
    "    def __NER(self):\n",
    "        para = input(\"Enter the paragraph: \")\n",
    "        search_term = input(\"What would you like to search: \")\n",
    "\n",
    "        client = nlpcloud.Client(\"finetuned-gpt-neox-20b\", \"915e178bfc59cdc893976b1e9b8154e63b4a5cbd\", gpu=True, lang=\"en\")\n",
    "        result = client.entities(para, searched_entity=search_term)\n",
    "        \n",
    "        L = []\n",
    "        for i in response['scored_labels']:\n",
    "        L.append(i['score'])\n",
    " \n",
    "        index = sorted(list(enumerate(L)),key=lambda x:x[1],reverse=True)[0][0]\n",
    "\n",
    "        print(response['scored_labels'][index]['label'])\n",
    "        self.__second_menu()\n",
    "\n",
    "    def __language_detection(self):\n",
    "        print(\"Language detection\")\n",
    "\n",
    "    def __systematic_analysis(self):  # इथे `self` गहाळ होता, तो जोडला आहे.\n",
    "        print(\"Systematic analysis\")"
   ]
  },
  {
   "cell_type": "code",
   "execution_count": 4,
   "id": "71897afb-f659-4818-85fa-ea5da661b8f6",
   "metadata": {},
   "outputs": [
    {
     "name": "stdin",
     "output_type": "stream",
     "text": [
      "\n",
      "        Hi! how would you like to proceed?\n",
      "        1. Not a member? Register\n",
      "        2. Already a member? Login\n",
      "        3. Galti se aa gaye? Exit\n",
      "         1\n",
      "Enter the name:  rohit\n",
      "Enter the email:  rm9486129@gmail.com\n",
      "Enter the password:  rohit\n"
     ]
    },
    {
     "name": "stdout",
     "output_type": "stream",
     "text": [
      "User registered successfully.\n"
     ]
    },
    {
     "name": "stdin",
     "output_type": "stream",
     "text": [
      "Enter the email:  rm9486129@gmail.com\n",
      "Enter the password:  rohit\n"
     ]
    },
    {
     "name": "stdout",
     "output_type": "stream",
     "text": [
      "Login successfully!\n"
     ]
    },
    {
     "name": "stdin",
     "output_type": "stream",
     "text": [
      "\n",
      "        Hello! \n",
      "        1. NER [name entity recognition]\n",
      "        2. Language detection\n",
      "        3. Systematic analysis \n",
      "         1\n",
      "Enter the paragraph:  गहाळ होता, तो जोडला आहे.\n",
      "What would you like to search:  आहे.\n"
     ]
    },
    {
     "name": "stdout",
     "output_type": "stream",
     "text": [
      "{'entities': [{'start': 34, 'end': 39, 'type': 'आहे.', 'text': 'जोडला'}, {'start': 50, 'end': 53, 'type': 'आहे.', 'text': 'आहे'}]}\n"
     ]
    }
   ],
   "source": [
    "A=NLPAPP()"
   ]
  },
  {
   "cell_type": "code",
   "execution_count": 8,
   "id": "6c67a3ca-d351-4593-94bf-cdbea27a3f18",
   "metadata": {},
   "outputs": [
    {
     "name": "stdin",
     "output_type": "stream",
     "text": [
      "\n",
      "      Hi! how would you like to proceed?\n",
      "      1. Not a member? Register\n",
      "      2. Already a member? Login\n",
      "      3. Galti se aa gaye? Exit\n",
      "       1\n",
      "Enter the name :  rohit\n",
      "Enter the email :  rm9486129@gmail.com\n",
      "Enter the passwword :  123\n"
     ]
    },
    {
     "name": "stdout",
     "output_type": "stream",
     "text": [
      "{'rm9486129@gmail.com': ['rohit', '123']}\n"
     ]
    }
   ],
   "source": []
  },
  {
   "cell_type": "code",
   "execution_count": null,
   "id": "7e121c94-4910-4f0e-95d7-ef1f8becc0b1",
   "metadata": {},
   "outputs": [],
   "source": []
  }
 ],
 "metadata": {
  "kernelspec": {
   "display_name": "Python 3 (ipykernel)",
   "language": "python",
   "name": "python3"
  },
  "language_info": {
   "codemirror_mode": {
    "name": "ipython",
    "version": 3
   },
   "file_extension": ".py",
   "mimetype": "text/x-python",
   "name": "python",
   "nbconvert_exporter": "python",
   "pygments_lexer": "ipython3",
   "version": "3.13.0"
  }
 },
 "nbformat": 4,
 "nbformat_minor": 5
}
